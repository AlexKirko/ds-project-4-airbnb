{
 "cells": [
  {
   "cell_type": "markdown",
   "metadata": {},
   "source": [
    "# Run the imports before running anything else!"
   ]
  },
  {
   "cell_type": "code",
   "execution_count": 1,
   "metadata": {},
   "outputs": [],
   "source": [
    "import pandas as pd\n",
    "import numpy as np\n",
    "from datetime import datetime as dt\n",
    "import datetime\n",
    "from itertools import compress\n",
    "import matplotlib.pyplot as plt\n",
    "from sklearn.linear_model import LinearRegression\n",
    "from sklearn.linear_model import Lasso, Ridge\n",
    "from sklearn.preprocessing import StandardScaler\n",
    "from sklearn.model_selection import train_test_split\n",
    "%matplotlib inline"
   ]
  },
  {
   "cell_type": "markdown",
   "metadata": {},
   "source": [
    "## Data processing, exploratory\n",
    "To see the final data preparation function and the data analysis implementation, scroll down to \"Data preparation: one function\".\n",
    "The code until that point is given to illustrate the process that let me arrive at that final function."
   ]
  },
  {
   "cell_type": "code",
   "execution_count": 7,
   "metadata": {},
   "outputs": [
    {
     "data": {
      "text/html": [
       "<div>\n",
       "<style scoped>\n",
       "    .dataframe tbody tr th:only-of-type {\n",
       "        vertical-align: middle;\n",
       "    }\n",
       "\n",
       "    .dataframe tbody tr th {\n",
       "        vertical-align: top;\n",
       "    }\n",
       "\n",
       "    .dataframe thead th {\n",
       "        text-align: right;\n",
       "    }\n",
       "</style>\n",
       "<table border=\"1\" class=\"dataframe\">\n",
       "  <thead>\n",
       "    <tr style=\"text-align: right;\">\n",
       "      <th></th>\n",
       "      <th>id</th>\n",
       "      <th>listing_url</th>\n",
       "      <th>scrape_id</th>\n",
       "      <th>last_scraped</th>\n",
       "      <th>name</th>\n",
       "      <th>summary</th>\n",
       "      <th>space</th>\n",
       "      <th>description</th>\n",
       "      <th>experiences_offered</th>\n",
       "      <th>neighborhood_overview</th>\n",
       "      <th>...</th>\n",
       "      <th>review_scores_value</th>\n",
       "      <th>requires_license</th>\n",
       "      <th>license</th>\n",
       "      <th>jurisdiction_names</th>\n",
       "      <th>instant_bookable</th>\n",
       "      <th>cancellation_policy</th>\n",
       "      <th>require_guest_profile_picture</th>\n",
       "      <th>require_guest_phone_verification</th>\n",
       "      <th>calculated_host_listings_count</th>\n",
       "      <th>reviews_per_month</th>\n",
       "    </tr>\n",
       "  </thead>\n",
       "  <tbody>\n",
       "    <tr>\n",
       "      <th>0</th>\n",
       "      <td>12147973</td>\n",
       "      <td>https://www.airbnb.com/rooms/12147973</td>\n",
       "      <td>20160906204935</td>\n",
       "      <td>2016-09-07</td>\n",
       "      <td>Sunny Bungalow in the City</td>\n",
       "      <td>Cozy, sunny, family home.  Master bedroom high...</td>\n",
       "      <td>The house has an open and cozy feel at the sam...</td>\n",
       "      <td>Cozy, sunny, family home.  Master bedroom high...</td>\n",
       "      <td>none</td>\n",
       "      <td>Roslindale is quiet, convenient and friendly. ...</td>\n",
       "      <td>...</td>\n",
       "      <td>NaN</td>\n",
       "      <td>f</td>\n",
       "      <td>NaN</td>\n",
       "      <td>NaN</td>\n",
       "      <td>f</td>\n",
       "      <td>moderate</td>\n",
       "      <td>f</td>\n",
       "      <td>f</td>\n",
       "      <td>1</td>\n",
       "      <td>NaN</td>\n",
       "    </tr>\n",
       "    <tr>\n",
       "      <th>1</th>\n",
       "      <td>3075044</td>\n",
       "      <td>https://www.airbnb.com/rooms/3075044</td>\n",
       "      <td>20160906204935</td>\n",
       "      <td>2016-09-07</td>\n",
       "      <td>Charming room in pet friendly apt</td>\n",
       "      <td>Charming and quiet room in a second floor 1910...</td>\n",
       "      <td>Small but cozy and quite room with a full size...</td>\n",
       "      <td>Charming and quiet room in a second floor 1910...</td>\n",
       "      <td>none</td>\n",
       "      <td>The room is in Roslindale, a diverse and prima...</td>\n",
       "      <td>...</td>\n",
       "      <td>9.0</td>\n",
       "      <td>f</td>\n",
       "      <td>NaN</td>\n",
       "      <td>NaN</td>\n",
       "      <td>t</td>\n",
       "      <td>moderate</td>\n",
       "      <td>f</td>\n",
       "      <td>f</td>\n",
       "      <td>1</td>\n",
       "      <td>1.30</td>\n",
       "    </tr>\n",
       "    <tr>\n",
       "      <th>2</th>\n",
       "      <td>6976</td>\n",
       "      <td>https://www.airbnb.com/rooms/6976</td>\n",
       "      <td>20160906204935</td>\n",
       "      <td>2016-09-07</td>\n",
       "      <td>Mexican Folk Art Haven in Boston</td>\n",
       "      <td>Come stay with a friendly, middle-aged guy in ...</td>\n",
       "      <td>Come stay with a friendly, middle-aged guy in ...</td>\n",
       "      <td>Come stay with a friendly, middle-aged guy in ...</td>\n",
       "      <td>none</td>\n",
       "      <td>The LOCATION: Roslindale is a safe and diverse...</td>\n",
       "      <td>...</td>\n",
       "      <td>10.0</td>\n",
       "      <td>f</td>\n",
       "      <td>NaN</td>\n",
       "      <td>NaN</td>\n",
       "      <td>f</td>\n",
       "      <td>moderate</td>\n",
       "      <td>t</td>\n",
       "      <td>f</td>\n",
       "      <td>1</td>\n",
       "      <td>0.47</td>\n",
       "    </tr>\n",
       "    <tr>\n",
       "      <th>3</th>\n",
       "      <td>1436513</td>\n",
       "      <td>https://www.airbnb.com/rooms/1436513</td>\n",
       "      <td>20160906204935</td>\n",
       "      <td>2016-09-07</td>\n",
       "      <td>Spacious Sunny Bedroom Suite in Historic Home</td>\n",
       "      <td>Come experience the comforts of home away from...</td>\n",
       "      <td>Most places you find in Boston are small howev...</td>\n",
       "      <td>Come experience the comforts of home away from...</td>\n",
       "      <td>none</td>\n",
       "      <td>Roslindale is a lovely little neighborhood loc...</td>\n",
       "      <td>...</td>\n",
       "      <td>10.0</td>\n",
       "      <td>f</td>\n",
       "      <td>NaN</td>\n",
       "      <td>NaN</td>\n",
       "      <td>f</td>\n",
       "      <td>moderate</td>\n",
       "      <td>f</td>\n",
       "      <td>f</td>\n",
       "      <td>1</td>\n",
       "      <td>1.00</td>\n",
       "    </tr>\n",
       "    <tr>\n",
       "      <th>4</th>\n",
       "      <td>7651065</td>\n",
       "      <td>https://www.airbnb.com/rooms/7651065</td>\n",
       "      <td>20160906204935</td>\n",
       "      <td>2016-09-07</td>\n",
       "      <td>Come Home to Boston</td>\n",
       "      <td>My comfy, clean and relaxing home is one block...</td>\n",
       "      <td>Clean, attractive, private room, one block fro...</td>\n",
       "      <td>My comfy, clean and relaxing home is one block...</td>\n",
       "      <td>none</td>\n",
       "      <td>I love the proximity to downtown, the neighbor...</td>\n",
       "      <td>...</td>\n",
       "      <td>10.0</td>\n",
       "      <td>f</td>\n",
       "      <td>NaN</td>\n",
       "      <td>NaN</td>\n",
       "      <td>f</td>\n",
       "      <td>flexible</td>\n",
       "      <td>f</td>\n",
       "      <td>f</td>\n",
       "      <td>1</td>\n",
       "      <td>2.25</td>\n",
       "    </tr>\n",
       "  </tbody>\n",
       "</table>\n",
       "<p>5 rows × 95 columns</p>\n",
       "</div>"
      ],
      "text/plain": [
       "         id                            listing_url       scrape_id  \\\n",
       "0  12147973  https://www.airbnb.com/rooms/12147973  20160906204935   \n",
       "1   3075044   https://www.airbnb.com/rooms/3075044  20160906204935   \n",
       "2      6976      https://www.airbnb.com/rooms/6976  20160906204935   \n",
       "3   1436513   https://www.airbnb.com/rooms/1436513  20160906204935   \n",
       "4   7651065   https://www.airbnb.com/rooms/7651065  20160906204935   \n",
       "\n",
       "  last_scraped                                           name  \\\n",
       "0   2016-09-07                     Sunny Bungalow in the City   \n",
       "1   2016-09-07              Charming room in pet friendly apt   \n",
       "2   2016-09-07               Mexican Folk Art Haven in Boston   \n",
       "3   2016-09-07  Spacious Sunny Bedroom Suite in Historic Home   \n",
       "4   2016-09-07                            Come Home to Boston   \n",
       "\n",
       "                                             summary  \\\n",
       "0  Cozy, sunny, family home.  Master bedroom high...   \n",
       "1  Charming and quiet room in a second floor 1910...   \n",
       "2  Come stay with a friendly, middle-aged guy in ...   \n",
       "3  Come experience the comforts of home away from...   \n",
       "4  My comfy, clean and relaxing home is one block...   \n",
       "\n",
       "                                               space  \\\n",
       "0  The house has an open and cozy feel at the sam...   \n",
       "1  Small but cozy and quite room with a full size...   \n",
       "2  Come stay with a friendly, middle-aged guy in ...   \n",
       "3  Most places you find in Boston are small howev...   \n",
       "4  Clean, attractive, private room, one block fro...   \n",
       "\n",
       "                                         description experiences_offered  \\\n",
       "0  Cozy, sunny, family home.  Master bedroom high...                none   \n",
       "1  Charming and quiet room in a second floor 1910...                none   \n",
       "2  Come stay with a friendly, middle-aged guy in ...                none   \n",
       "3  Come experience the comforts of home away from...                none   \n",
       "4  My comfy, clean and relaxing home is one block...                none   \n",
       "\n",
       "                               neighborhood_overview  ... review_scores_value  \\\n",
       "0  Roslindale is quiet, convenient and friendly. ...  ...                 NaN   \n",
       "1  The room is in Roslindale, a diverse and prima...  ...                 9.0   \n",
       "2  The LOCATION: Roslindale is a safe and diverse...  ...                10.0   \n",
       "3  Roslindale is a lovely little neighborhood loc...  ...                10.0   \n",
       "4  I love the proximity to downtown, the neighbor...  ...                10.0   \n",
       "\n",
       "  requires_license license jurisdiction_names instant_bookable  \\\n",
       "0                f     NaN                NaN                f   \n",
       "1                f     NaN                NaN                t   \n",
       "2                f     NaN                NaN                f   \n",
       "3                f     NaN                NaN                f   \n",
       "4                f     NaN                NaN                f   \n",
       "\n",
       "  cancellation_policy require_guest_profile_picture  \\\n",
       "0            moderate                             f   \n",
       "1            moderate                             f   \n",
       "2            moderate                             t   \n",
       "3            moderate                             f   \n",
       "4            flexible                             f   \n",
       "\n",
       "  require_guest_phone_verification calculated_host_listings_count  \\\n",
       "0                                f                              1   \n",
       "1                                f                              1   \n",
       "2                                f                              1   \n",
       "3                                f                              1   \n",
       "4                                f                              1   \n",
       "\n",
       "   reviews_per_month  \n",
       "0                NaN  \n",
       "1               1.30  \n",
       "2               0.47  \n",
       "3               1.00  \n",
       "4               2.25  \n",
       "\n",
       "[5 rows x 95 columns]"
      ]
     },
     "execution_count": 7,
     "metadata": {},
     "output_type": "execute_result"
    }
   ],
   "source": [
    "#First we need to take a look at the data\n",
    "listings_df = pd.read_csv(r'data\\boston\\listings.csv',sep=',',quotechar='\"')\n",
    "listings_df.head()"
   ]
  },
  {
   "cell_type": "code",
   "execution_count": 12,
   "metadata": {},
   "outputs": [
    {
     "data": {
      "text/plain": [
       "Index(['id', 'listing_url', 'scrape_id', 'last_scraped', 'name', 'summary',\n",
       "       'space', 'description', 'experiences_offered', 'neighborhood_overview',\n",
       "       'notes', 'transit', 'access', 'interaction', 'house_rules',\n",
       "       'thumbnail_url', 'medium_url', 'picture_url', 'xl_picture_url',\n",
       "       'host_id', 'host_url', 'host_name', 'host_since', 'host_location',\n",
       "       'host_about', 'host_response_time', 'host_response_rate',\n",
       "       'host_acceptance_rate', 'host_is_superhost', 'host_thumbnail_url',\n",
       "       'host_picture_url', 'host_neighbourhood', 'host_listings_count',\n",
       "       'host_total_listings_count', 'host_verifications',\n",
       "       'host_has_profile_pic', 'host_identity_verified', 'street',\n",
       "       'neighbourhood', 'neighbourhood_cleansed',\n",
       "       'neighbourhood_group_cleansed', 'city', 'state', 'zipcode', 'market',\n",
       "       'smart_location', 'country_code', 'country', 'latitude', 'longitude',\n",
       "       'is_location_exact', 'property_type', 'room_type', 'accommodates',\n",
       "       'bathrooms', 'bedrooms', 'beds', 'bed_type', 'amenities', 'square_feet',\n",
       "       'price', 'weekly_price', 'monthly_price', 'security_deposit',\n",
       "       'cleaning_fee', 'guests_included', 'extra_people', 'minimum_nights',\n",
       "       'maximum_nights', 'calendar_updated', 'has_availability',\n",
       "       'availability_30', 'availability_60', 'availability_90',\n",
       "       'availability_365', 'calendar_last_scraped', 'number_of_reviews',\n",
       "       'first_review', 'last_review', 'review_scores_rating',\n",
       "       'review_scores_accuracy', 'review_scores_cleanliness',\n",
       "       'review_scores_checkin', 'review_scores_communication',\n",
       "       'review_scores_location', 'review_scores_value', 'requires_license',\n",
       "       'license', 'jurisdiction_names', 'instant_bookable',\n",
       "       'cancellation_policy', 'require_guest_profile_picture',\n",
       "       'require_guest_phone_verification', 'calculated_host_listings_count',\n",
       "       'reviews_per_month'],\n",
       "      dtype='object')"
      ]
     },
     "execution_count": 12,
     "metadata": {},
     "output_type": "execute_result"
    }
   ],
   "source": [
    "#And at the column list\n",
    "listings_df.columns"
   ]
  },
  {
   "cell_type": "code",
   "execution_count": 13,
   "metadata": {},
   "outputs": [
    {
     "data": {
      "text/html": [
       "<div>\n",
       "<style scoped>\n",
       "    .dataframe tbody tr th:only-of-type {\n",
       "        vertical-align: middle;\n",
       "    }\n",
       "\n",
       "    .dataframe tbody tr th {\n",
       "        vertical-align: top;\n",
       "    }\n",
       "\n",
       "    .dataframe thead th {\n",
       "        text-align: right;\n",
       "    }\n",
       "</style>\n",
       "<table border=\"1\" class=\"dataframe\">\n",
       "  <thead>\n",
       "    <tr style=\"text-align: right;\">\n",
       "      <th></th>\n",
       "      <th>price</th>\n",
       "      <th>weekly_price</th>\n",
       "      <th>monthly_price</th>\n",
       "    </tr>\n",
       "  </thead>\n",
       "  <tbody>\n",
       "    <tr>\n",
       "      <th>0</th>\n",
       "      <td>$250.00</td>\n",
       "      <td>NaN</td>\n",
       "      <td>NaN</td>\n",
       "    </tr>\n",
       "    <tr>\n",
       "      <th>1</th>\n",
       "      <td>$65.00</td>\n",
       "      <td>$400.00</td>\n",
       "      <td>NaN</td>\n",
       "    </tr>\n",
       "    <tr>\n",
       "      <th>2</th>\n",
       "      <td>$65.00</td>\n",
       "      <td>$395.00</td>\n",
       "      <td>$1,350.00</td>\n",
       "    </tr>\n",
       "    <tr>\n",
       "      <th>3</th>\n",
       "      <td>$75.00</td>\n",
       "      <td>NaN</td>\n",
       "      <td>NaN</td>\n",
       "    </tr>\n",
       "    <tr>\n",
       "      <th>4</th>\n",
       "      <td>$79.00</td>\n",
       "      <td>NaN</td>\n",
       "      <td>NaN</td>\n",
       "    </tr>\n",
       "  </tbody>\n",
       "</table>\n",
       "</div>"
      ],
      "text/plain": [
       "     price weekly_price monthly_price\n",
       "0  $250.00          NaN           NaN\n",
       "1   $65.00      $400.00           NaN\n",
       "2   $65.00      $395.00     $1,350.00\n",
       "3   $75.00          NaN           NaN\n",
       "4   $79.00          NaN           NaN"
      ]
     },
     "execution_count": 13,
     "metadata": {},
     "output_type": "execute_result"
    }
   ],
   "source": [
    "#How is the price represented?\n",
    "listings_df[['price','weekly_price','monthly_price']].head()"
   ]
  },
  {
   "cell_type": "code",
   "execution_count": 14,
   "metadata": {},
   "outputs": [
    {
     "data": {
      "text/plain": [
       "array(['f'], dtype=object)"
      ]
     },
     "execution_count": 14,
     "metadata": {},
     "output_type": "execute_result"
    }
   ],
   "source": [
    "#Do we need to retain information about the license?\n",
    "listings_df['requires_license'].unique()"
   ]
  },
  {
   "cell_type": "code",
   "execution_count": 30,
   "metadata": {},
   "outputs": [
    {
     "data": {
      "text/html": [
       "<div>\n",
       "<style scoped>\n",
       "    .dataframe tbody tr th:only-of-type {\n",
       "        vertical-align: middle;\n",
       "    }\n",
       "\n",
       "    .dataframe tbody tr th {\n",
       "        vertical-align: top;\n",
       "    }\n",
       "\n",
       "    .dataframe thead th {\n",
       "        text-align: right;\n",
       "    }\n",
       "</style>\n",
       "<table border=\"1\" class=\"dataframe\">\n",
       "  <thead>\n",
       "    <tr style=\"text-align: right;\">\n",
       "      <th></th>\n",
       "      <th>longitude</th>\n",
       "      <th>latitude</th>\n",
       "    </tr>\n",
       "  </thead>\n",
       "  <tbody>\n",
       "    <tr>\n",
       "      <th>15</th>\n",
       "      <td>-122.372893</td>\n",
       "      <td>47.635650</td>\n",
       "    </tr>\n",
       "    <tr>\n",
       "      <th>20</th>\n",
       "      <td>-122.364959</td>\n",
       "      <td>47.627940</td>\n",
       "    </tr>\n",
       "    <tr>\n",
       "      <th>51</th>\n",
       "      <td>-122.373779</td>\n",
       "      <td>47.638298</td>\n",
       "    </tr>\n",
       "    <tr>\n",
       "      <th>65</th>\n",
       "      <td>-122.392594</td>\n",
       "      <td>47.669327</td>\n",
       "    </tr>\n",
       "    <tr>\n",
       "      <th>69</th>\n",
       "      <td>-122.378666</td>\n",
       "      <td>47.670662</td>\n",
       "    </tr>\n",
       "  </tbody>\n",
       "</table>\n",
       "</div>"
      ],
      "text/plain": [
       "     longitude   latitude\n",
       "15 -122.372893  47.635650\n",
       "20 -122.364959  47.627940\n",
       "51 -122.373779  47.638298\n",
       "65 -122.392594  47.669327\n",
       "69 -122.378666  47.670662"
      ]
     },
     "execution_count": 30,
     "metadata": {},
     "output_type": "execute_result"
    }
   ],
   "source": [
    "#Do we have longitude and latitude? If we don't, then we won't be easily able to answer questions about distance to city center\n",
    "listings_df[listings_df['is_location_exact'] == 'f'][['longitude','latitude']].head()"
   ]
  },
  {
   "cell_type": "markdown",
   "metadata": {},
   "source": [
    "### Questions for analysis:\n",
    "\n",
    "* Do central locations in Boston and Seattle provide better anemities (beds, wi-fi, kitchen)? Are there any differences between cities? We'll use basic descriptive statistics to explore.\n",
    "* Does distance from downtown have a bigger impact on lodging price for Seattle or for Boston for AirBnB (after controlling for other variables)? We'll create another feature (distance to downtown based on the city center longitude and latitude) and build a basic supervised learning model. The goal here isn't to predict price but to look for a simple, monotone relationship between the distance to city center and listing price.\n",
    "* Do people end up happier with staying closer to downtown after controlling for other variables? We'll reuse the previous model, only now we'll use average review score as a target."
   ]
  },
  {
   "cell_type": "markdown",
   "metadata": {},
   "source": [
    "## Data Preparation and Cleaning"
   ]
  },
  {
   "cell_type": "markdown",
   "metadata": {},
   "source": [
    "First, let's decide which columns we should drop to avoid cluttering our DataFrame\n",
    "* listing_url, thumbnail_url, medium_url, picture_url, xl_picture_url, host_thumbnail_url, host_picture_url - all the urls can be safely dropped\n",
    "* scrape_id\n",
    "* last_scraped - all rows have one date\n",
    "* name, summary, space, description, experiences_offered ('none'), neighborhood_overview, notes, transit, host_name, host_about - text analysis was out-of-scope for this research as it is a separate project in itself. If these comments and descriptions we dropped are unexpectedly connected with how central a house is, then we might be in trouble but we should be fine. What we are doing here is treating how central a home is as a proxy for ease of transit, neighborhood quality, and other hard-to-analyze text fields. We don't expect the location to be a magical power acting on price on itself, but rather expect it to stand in for ease of access to city entertainment and business hubs and for the concentration of anemities in the neighborhood.\n",
    "* host_id, host_url, host_location\n",
    "* street - this is too detailed. For future analysis, we could make a dummy variable for especially expensive streets, but we won't do this now\n",
    "* neighbourhood - we already have a cleaned-up neighbourhood and neighbourhood group courtesy of AirBnB\n",
    "* city, state, market, country_code, country, smart_location - same for all rows\n",
    "* weekly price, monthly price - don't need those for now. Could use them to remove some noise from the 'price' feature.\n",
    "* security_deposit isn't something that influences price but rather another target variable that we could analyze.\n",
    "* license - always NaN for Seattle and Boston. It and 'requires_license' aren't necessary\n",
    "* review_scores_rating, review_scores_accuracy, review_scores_cleanliness, review_scores_checkin, review_scores_communication,  review_scores_location, review_scores_value - we are interested only in apartment properties and not in review scores\n",
    "* calendar_last_scraped - meaningless as a predictor"
   ]
  },
  {
   "cell_type": "code",
   "execution_count": 2,
   "metadata": {},
   "outputs": [],
   "source": [
    "#Columns to drop\n",
    "drop_cols = [\n",
    "    'listing_url', 'thumbnail_url', 'medium_url', 'picture_url', 'xl_picture_url', 'host_thumbnail_url', 'host_picture_url', \n",
    "    'scrape_id', 'last_scraped', \n",
    "    'name', 'summary', 'space', 'description', 'experiences_offered', 'neighborhood_overview', 'notes', 'transit', \n",
    "    'host_name', 'host_about', 'host_location', 'host_id', 'host_url',\n",
    "    'street', 'neighbourhood', 'city', 'state', 'market', 'country_code', 'country', 'smart_location', \n",
    "    'weekly_price', 'monthly_price', 'security_deposit', 'requires_license', 'license','calendar_last_scraped',\n",
    "    'review_scores_rating', 'review_scores_accuracy', 'review_scores_cleanliness', 'review_scores_checkin', \n",
    "    'review_scores_communication', 'review_scores_location', 'review_scores_value',\n",
    "    'access','interaction','house_rules'\n",
    "]"
   ]
  },
  {
   "cell_type": "code",
   "execution_count": 3,
   "metadata": {},
   "outputs": [],
   "source": [
    "def preprocess_listings(df, drop_cols, drop_nonexact=False):\n",
    "    \"\"\"\n",
    "    Function cleans a listings DataFrame by dropping a list of columns\n",
    "    and then dropping the listings with nonexact location if needed\n",
    "    \"\"\"\n",
    "    #Need to ignore errors because we'll be applying this to two cities\n",
    "    #and this lets us to apply the Seattle column list to Boston\n",
    "    #without worrying about a couple columns not existing in the\n",
    "    #Boston dataset\n",
    "    \n",
    "    pre_df = df.drop(drop_cols, axis=1,errors='ignore')\n",
    "    \n",
    "    #Under our circumstances, it's not necessary to drop non-exact locations\n",
    "    #as AirBnB guarantees that locations are accurate with 150-meter accuracy\n",
    "    #anyway: http://insideairbnb.com/about.html#disclaimers\n",
    "    if drop_nonexact:\n",
    "        pre_df = pre_df[pre_df['is_location_exact'] == 't']\n",
    "    \n",
    "    #Drop is_location_exact as it's a purelytechnical variable\n",
    "    #and we have no more use for it\n",
    "    pre_df = pre_df.drop(['is_location_exact'], axis=1)\n",
    "    \n",
    "    return pre_df"
   ]
  },
  {
   "cell_type": "code",
   "execution_count": 18,
   "metadata": {},
   "outputs": [],
   "source": [
    "#Dropping the columns\n",
    "seattle_cleaned = preprocess_listings(listings_df, drop_cols)"
   ]
  },
  {
   "cell_type": "code",
   "execution_count": 19,
   "metadata": {},
   "outputs": [
    {
     "data": {
      "text/html": [
       "<div>\n",
       "<style scoped>\n",
       "    .dataframe tbody tr th:only-of-type {\n",
       "        vertical-align: middle;\n",
       "    }\n",
       "\n",
       "    .dataframe tbody tr th {\n",
       "        vertical-align: top;\n",
       "    }\n",
       "\n",
       "    .dataframe thead th {\n",
       "        text-align: right;\n",
       "    }\n",
       "</style>\n",
       "<table border=\"1\" class=\"dataframe\">\n",
       "  <thead>\n",
       "    <tr style=\"text-align: right;\">\n",
       "      <th></th>\n",
       "      <th>id</th>\n",
       "      <th>host_since</th>\n",
       "      <th>host_response_time</th>\n",
       "      <th>host_response_rate</th>\n",
       "      <th>host_acceptance_rate</th>\n",
       "      <th>host_is_superhost</th>\n",
       "      <th>host_neighbourhood</th>\n",
       "      <th>host_listings_count</th>\n",
       "      <th>host_total_listings_count</th>\n",
       "      <th>host_verifications</th>\n",
       "      <th>...</th>\n",
       "      <th>number_of_reviews</th>\n",
       "      <th>first_review</th>\n",
       "      <th>last_review</th>\n",
       "      <th>jurisdiction_names</th>\n",
       "      <th>instant_bookable</th>\n",
       "      <th>cancellation_policy</th>\n",
       "      <th>require_guest_profile_picture</th>\n",
       "      <th>require_guest_phone_verification</th>\n",
       "      <th>calculated_host_listings_count</th>\n",
       "      <th>reviews_per_month</th>\n",
       "    </tr>\n",
       "  </thead>\n",
       "  <tbody>\n",
       "    <tr>\n",
       "      <th>0</th>\n",
       "      <td>12147973</td>\n",
       "      <td>2015-04-15</td>\n",
       "      <td>NaN</td>\n",
       "      <td>NaN</td>\n",
       "      <td>NaN</td>\n",
       "      <td>f</td>\n",
       "      <td>Roslindale</td>\n",
       "      <td>1</td>\n",
       "      <td>1</td>\n",
       "      <td>['email', 'phone', 'facebook', 'reviews']</td>\n",
       "      <td>...</td>\n",
       "      <td>0</td>\n",
       "      <td>NaN</td>\n",
       "      <td>NaN</td>\n",
       "      <td>NaN</td>\n",
       "      <td>f</td>\n",
       "      <td>moderate</td>\n",
       "      <td>f</td>\n",
       "      <td>f</td>\n",
       "      <td>1</td>\n",
       "      <td>NaN</td>\n",
       "    </tr>\n",
       "    <tr>\n",
       "      <th>1</th>\n",
       "      <td>3075044</td>\n",
       "      <td>2012-06-07</td>\n",
       "      <td>within an hour</td>\n",
       "      <td>100%</td>\n",
       "      <td>100%</td>\n",
       "      <td>f</td>\n",
       "      <td>Roslindale</td>\n",
       "      <td>1</td>\n",
       "      <td>1</td>\n",
       "      <td>['email', 'phone', 'facebook', 'linkedin', 'am...</td>\n",
       "      <td>...</td>\n",
       "      <td>36</td>\n",
       "      <td>2014-06-01</td>\n",
       "      <td>2016-08-13</td>\n",
       "      <td>NaN</td>\n",
       "      <td>t</td>\n",
       "      <td>moderate</td>\n",
       "      <td>f</td>\n",
       "      <td>f</td>\n",
       "      <td>1</td>\n",
       "      <td>1.30</td>\n",
       "    </tr>\n",
       "    <tr>\n",
       "      <th>2</th>\n",
       "      <td>6976</td>\n",
       "      <td>2009-05-11</td>\n",
       "      <td>within a few hours</td>\n",
       "      <td>100%</td>\n",
       "      <td>88%</td>\n",
       "      <td>t</td>\n",
       "      <td>Roslindale</td>\n",
       "      <td>1</td>\n",
       "      <td>1</td>\n",
       "      <td>['email', 'phone', 'reviews', 'jumio']</td>\n",
       "      <td>...</td>\n",
       "      <td>41</td>\n",
       "      <td>2009-07-19</td>\n",
       "      <td>2016-08-05</td>\n",
       "      <td>NaN</td>\n",
       "      <td>f</td>\n",
       "      <td>moderate</td>\n",
       "      <td>t</td>\n",
       "      <td>f</td>\n",
       "      <td>1</td>\n",
       "      <td>0.47</td>\n",
       "    </tr>\n",
       "    <tr>\n",
       "      <th>3</th>\n",
       "      <td>1436513</td>\n",
       "      <td>2013-04-21</td>\n",
       "      <td>within a few hours</td>\n",
       "      <td>100%</td>\n",
       "      <td>50%</td>\n",
       "      <td>f</td>\n",
       "      <td>NaN</td>\n",
       "      <td>1</td>\n",
       "      <td>1</td>\n",
       "      <td>['email', 'phone', 'reviews']</td>\n",
       "      <td>...</td>\n",
       "      <td>1</td>\n",
       "      <td>2016-08-28</td>\n",
       "      <td>2016-08-28</td>\n",
       "      <td>NaN</td>\n",
       "      <td>f</td>\n",
       "      <td>moderate</td>\n",
       "      <td>f</td>\n",
       "      <td>f</td>\n",
       "      <td>1</td>\n",
       "      <td>1.00</td>\n",
       "    </tr>\n",
       "    <tr>\n",
       "      <th>4</th>\n",
       "      <td>7651065</td>\n",
       "      <td>2014-05-11</td>\n",
       "      <td>within an hour</td>\n",
       "      <td>100%</td>\n",
       "      <td>100%</td>\n",
       "      <td>t</td>\n",
       "      <td>Roslindale</td>\n",
       "      <td>1</td>\n",
       "      <td>1</td>\n",
       "      <td>['email', 'phone', 'reviews', 'kba']</td>\n",
       "      <td>...</td>\n",
       "      <td>29</td>\n",
       "      <td>2015-08-18</td>\n",
       "      <td>2016-09-01</td>\n",
       "      <td>NaN</td>\n",
       "      <td>f</td>\n",
       "      <td>flexible</td>\n",
       "      <td>f</td>\n",
       "      <td>f</td>\n",
       "      <td>1</td>\n",
       "      <td>2.25</td>\n",
       "    </tr>\n",
       "  </tbody>\n",
       "</table>\n",
       "<p>5 rows × 48 columns</p>\n",
       "</div>"
      ],
      "text/plain": [
       "         id  host_since  host_response_time host_response_rate  \\\n",
       "0  12147973  2015-04-15                 NaN                NaN   \n",
       "1   3075044  2012-06-07      within an hour               100%   \n",
       "2      6976  2009-05-11  within a few hours               100%   \n",
       "3   1436513  2013-04-21  within a few hours               100%   \n",
       "4   7651065  2014-05-11      within an hour               100%   \n",
       "\n",
       "  host_acceptance_rate host_is_superhost host_neighbourhood  \\\n",
       "0                  NaN                 f         Roslindale   \n",
       "1                 100%                 f         Roslindale   \n",
       "2                  88%                 t         Roslindale   \n",
       "3                  50%                 f                NaN   \n",
       "4                 100%                 t         Roslindale   \n",
       "\n",
       "   host_listings_count  host_total_listings_count  \\\n",
       "0                    1                          1   \n",
       "1                    1                          1   \n",
       "2                    1                          1   \n",
       "3                    1                          1   \n",
       "4                    1                          1   \n",
       "\n",
       "                                  host_verifications  ... number_of_reviews  \\\n",
       "0          ['email', 'phone', 'facebook', 'reviews']  ...                 0   \n",
       "1  ['email', 'phone', 'facebook', 'linkedin', 'am...  ...                36   \n",
       "2             ['email', 'phone', 'reviews', 'jumio']  ...                41   \n",
       "3                      ['email', 'phone', 'reviews']  ...                 1   \n",
       "4               ['email', 'phone', 'reviews', 'kba']  ...                29   \n",
       "\n",
       "  first_review last_review  jurisdiction_names instant_bookable  \\\n",
       "0          NaN         NaN                 NaN                f   \n",
       "1   2014-06-01  2016-08-13                 NaN                t   \n",
       "2   2009-07-19  2016-08-05                 NaN                f   \n",
       "3   2016-08-28  2016-08-28                 NaN                f   \n",
       "4   2015-08-18  2016-09-01                 NaN                f   \n",
       "\n",
       "   cancellation_policy  require_guest_profile_picture  \\\n",
       "0             moderate                              f   \n",
       "1             moderate                              f   \n",
       "2             moderate                              t   \n",
       "3             moderate                              f   \n",
       "4             flexible                              f   \n",
       "\n",
       "  require_guest_phone_verification calculated_host_listings_count  \\\n",
       "0                                f                              1   \n",
       "1                                f                              1   \n",
       "2                                f                              1   \n",
       "3                                f                              1   \n",
       "4                                f                              1   \n",
       "\n",
       "   reviews_per_month  \n",
       "0                NaN  \n",
       "1               1.30  \n",
       "2               0.47  \n",
       "3               1.00  \n",
       "4               2.25  \n",
       "\n",
       "[5 rows x 48 columns]"
      ]
     },
     "execution_count": 19,
     "metadata": {},
     "output_type": "execute_result"
    }
   ],
   "source": [
    "#Let's take a look at the results\n",
    "seattle_cleaned.head()"
   ]
  },
  {
   "cell_type": "code",
   "execution_count": 20,
   "metadata": {},
   "outputs": [
    {
     "name": "stdout",
     "output_type": "stream",
     "text": [
      "TV,\"Wireless Internet\",Kitchen,\"Free Parking on Premises\",\"Pets live on this property\",Dog(s),Heating,\"Family/Kid Friendly\",Washer,Dryer,\"Smoke Detector\",\"Fire Extinguisher\",Essentials,Shampoo,\"Laptop Friendly Workspace\"\n"
     ]
    }
   ],
   "source": [
    "#Some columns have a list of options encoded in them\n",
    "#Let's take a look at anemities\n",
    "test_str = seattle_cleaned['amenities'][0]\n",
    "print(test_str[1:-1])"
   ]
  },
  {
   "cell_type": "markdown",
   "metadata": {},
   "source": [
    "We'll need to transform every such column into several boolean columns, one for each of the options possible. We'll also need to clean the new column names."
   ]
  },
  {
   "cell_type": "code",
   "execution_count": 4,
   "metadata": {},
   "outputs": [],
   "source": [
    "def split_itemlist(in_str, prefix='', sep=',', search=['\"',\"'\",'/',' '], replace=['','','','_']):\n",
    "    \"\"\"\n",
    "    Function splits a string into a list of items and reformats them to be usable as column names\n",
    "    \n",
    "    Args:\n",
    "        in_str(str): string to be split into a list of formatted column names\n",
    "    Output:\n",
    "        out_list(list): list of formatted column names\n",
    "    \"\"\"\n",
    "    \n",
    "    #Remove the braces if they exist\n",
    "    if in_str[0] in ['[','{']:\n",
    "        in_str = in_str[1:-1]\n",
    "    \n",
    "    out_list = in_str.split(sep)\n",
    "    for ind, item in enumerate(out_list):\n",
    "        temp_str = out_list[ind]\n",
    "        temp_str = temp_str.lower()\n",
    "        temp_str = temp_str.strip()\n",
    "        for s, r in zip(search, replace):\n",
    "            temp_str = temp_str.replace(s,r)\n",
    "        out_list[ind] = temp_str\n",
    "    \n",
    "    return out_list"
   ]
  },
  {
   "cell_type": "code",
   "execution_count": 5,
   "metadata": {},
   "outputs": [],
   "source": [
    "def split_combination(df,col_list):\n",
    "    \"\"\"\n",
    "    Function splits a columns which has a string encoding a list of options in it\n",
    "    each option gets its own dummy column encoded with 1 and 0. Original column is dropped.\n",
    "    Resets the DataFrame index to make sure that everything fits.\n",
    "    \n",
    "    Note on implementation: it's important to avoid editing a DataFrame inside a loop,\n",
    "    so that's why we use a numpy array and then convert and concatenate.\n",
    "    \n",
    "    Args:\n",
    "        in_df(DataFrame): DataFrame with columns to be split\n",
    "    Output:\n",
    "        df(DataFrame): DataFrame with split columns\n",
    "    \"\"\"\n",
    "    \n",
    "    df.reset_index()\n",
    "    \n",
    "    new_cols = {}\n",
    "    \n",
    "    #Let's preallocate space for new columns\n",
    "    #This will break if we need to add more than 100 columns\n",
    "    #but it's fine for our problem\n",
    "    \n",
    "    new_arr = np.zeros((len(df), 100))\n",
    "    \n",
    "    rcount = 0\n",
    "    #print(df.head())\n",
    "    col_ind = 0\n",
    "    for index,row in df.iterrows():\n",
    "        #print(row['amenities'])\n",
    "        for col in col_list:\n",
    "            #print(col)\n",
    "            split_list = split_itemlist(row[col],prefix=(col + '_'))\n",
    "            for sp_col in split_list:\n",
    "                if not(sp_col in new_cols):\n",
    "                    #print(sp_col)\n",
    "                    #print(new_cols)\n",
    "                    new_cols[sp_col] = col_ind\n",
    "                    col_ind += 1\n",
    "                try:\n",
    "                    new_arr[rcount][new_cols[sp_col]] = 1\n",
    "                except:\n",
    "                    print(new_cols)\n",
    "                    raise\n",
    "        rcount += 1\n",
    "    \n",
    "    new_arr = new_arr[:,:len(new_cols)]\n",
    "        \n",
    "    #df[new_cols.keys()] = new_arr\n",
    "    \n",
    "    app_df = pd.DataFrame(new_arr, columns=new_cols.keys(), index=df.index)\n",
    "    df = pd.concat([df, app_df], axis=1)\n",
    "    #Drop the original columns\n",
    "    df = df.drop(labels=col_list, axis=1)\n",
    "    \n",
    "    return df"
   ]
  },
  {
   "cell_type": "code",
   "execution_count": 8,
   "metadata": {},
   "outputs": [
    {
     "name": "stdout",
     "output_type": "stream",
     "text": [
      "Remaining columns before split:\n",
      "Index(['id', 'host_since', 'host_response_time', 'host_response_rate',\n",
      "       'host_acceptance_rate', 'host_is_superhost', 'host_neighbourhood',\n",
      "       'host_listings_count', 'host_total_listings_count',\n",
      "       'host_verifications', 'host_has_profile_pic', 'host_identity_verified',\n",
      "       'neighbourhood_cleansed', 'neighbourhood_group_cleansed', 'zipcode',\n",
      "       'latitude', 'longitude', 'property_type', 'room_type', 'accommodates',\n",
      "       'bathrooms', 'bedrooms', 'beds', 'bed_type', 'amenities', 'square_feet',\n",
      "       'price', 'cleaning_fee', 'guests_included', 'extra_people',\n",
      "       'minimum_nights', 'maximum_nights', 'calendar_updated',\n",
      "       'has_availability', 'availability_30', 'availability_60',\n",
      "       'availability_90', 'availability_365', 'number_of_reviews',\n",
      "       'first_review', 'last_review', 'jurisdiction_names', 'instant_bookable',\n",
      "       'cancellation_policy', 'require_guest_profile_picture',\n",
      "       'require_guest_phone_verification', 'calculated_host_listings_count',\n",
      "       'reviews_per_month'],\n",
      "      dtype='object')\n",
      "Total number of rows in DataFrame before split is 3080\n",
      "Total number of columns in DataFrame before split is 48\n",
      "Execution took 0:00:00.362026 \n",
      "Total number of rows in DataFrame after split is 3080\n",
      "Total number of columns in DataFrame after splitis 105\n"
     ]
    }
   ],
   "source": [
    "#Let's split the columns that have lists in them\n",
    "expand_cols = ['amenities','host_verifications']\n",
    "\n",
    "#Record the current date\n",
    "seattle_date = listings_df['last_scraped'].iloc[0]\n",
    "#Drop all unnecessary columns\n",
    "seattle_cleaned = preprocess_listings(listings_df, drop_cols, True)\n",
    "print('Remaining columns before split:')\n",
    "print(seattle_cleaned.columns)\n",
    "print('Total number of rows in DataFrame before split is {:d}'.format(len(seattle_cleaned)))\n",
    "print('Total number of columns in DataFrame before split is {:d}'.format(len(seattle_cleaned.columns)))\n",
    "start = dt.now()\n",
    "seattle_cleaned = split_combination(seattle_cleaned,expand_cols)\n",
    "print('Execution took {} '.format(dt.now() - start))\n",
    "print('Total number of rows in DataFrame after split is {:d}'.format(len(seattle_cleaned)))\n",
    "print('Total number of columns in DataFrame after splitis {:d}'.format(len(seattle_cleaned.columns)))"
   ]
  },
  {
   "cell_type": "code",
   "execution_count": 24,
   "metadata": {},
   "outputs": [],
   "source": [
    "#We need to record the target and quantitative variables \n",
    "#since other variables are qualitative and need encoding\n",
    "\n",
    "t_col = ['price']\n",
    "quant_cols = ['host_since','host_response_rate','host_acceptance_rate',\n",
    "              'host_listings_count','host_total_listings_count','latitude','longitude',\n",
    "              'accommodates','bathrooms','bedrooms','beds','square_feet','price',\n",
    "              'cleaning_fee','guests_included','extra_people','minimum_nights','maximum_nights',\n",
    "              'calculated_host_listings_count','reviews_per_month','first_review','last_review',\n",
    "             'availability_30','availability_60','availability_90','availability_365',\n",
    "             'number_of_reviews','dist_to_center']"
   ]
  },
  {
   "cell_type": "code",
   "execution_count": 27,
   "metadata": {},
   "outputs": [
    {
     "data": {
      "text/plain": [
       "0     NaN\n",
       "1    100%\n",
       "2    100%\n",
       "4    100%\n",
       "5    100%\n",
       "Name: host_response_rate, dtype: object"
      ]
     },
     "execution_count": 27,
     "metadata": {},
     "output_type": "execute_result"
    }
   ],
   "source": [
    "#Let's see how rates are encoded\n",
    "seattle_cleaned['host_response_rate'].head()"
   ]
  },
  {
   "cell_type": "code",
   "execution_count": 28,
   "metadata": {},
   "outputs": [
    {
     "data": {
      "text/plain": [
       "datetime.datetime(2015, 4, 15, 0, 0)"
      ]
     },
     "execution_count": 28,
     "metadata": {},
     "output_type": "execute_result"
    }
   ],
   "source": [
    "#Let's check that we got the date-encoding format correctly\n",
    "dt.strptime(seattle_cleaned['host_since'].iloc[0],'%Y-%m-%d')"
   ]
  },
  {
   "cell_type": "code",
   "execution_count": 9,
   "metadata": {},
   "outputs": [],
   "source": [
    "def get_date_diff(df, col, cur_date_str, dt_format='%Y-%m-%d'):\n",
    "    \"\"\"\n",
    "    Turns a column of string-encoded dates to a column\n",
    "    of log-differences between the encoded date and the current date\n",
    "    \n",
    "    Args:\n",
    "    df (DataFrame): DataFrame with the column to be reencoded\n",
    "    col (str) - name of the column\n",
    "    cur_date_str (str): the date at which the Dataset was formed\n",
    "        last scrape date or equivalent should be passed in dt_format\n",
    "        format\n",
    "    dt_format (str) - date format to use for encoding\n",
    "    \n",
    "    \"\"\"\n",
    "    \n",
    "    cur_date = dt.strptime(cur_date_str,dt_format)\n",
    "    df[col] = df[col].apply(lambda x: dt.strptime(x,dt_format) if isinstance(x, str) else x)\n",
    "    \n",
    "    #We expect the effect of date differences to be larger when they are small, \n",
    "    #so let's reingeneer the differnce into logarithmic scale\n",
    "    df[col] = df[col].apply(lambda x: np.log((cur_date - x).days) if isinstance(x, datetime.date) else x)\n",
    "    \n",
    "    return df"
   ]
  },
  {
   "cell_type": "code",
   "execution_count": 10,
   "metadata": {},
   "outputs": [
    {
     "data": {
      "text/plain": [
       "0    6.236370\n",
       "1    7.347944\n",
       "2    7.892078\n",
       "4    6.745236\n",
       "5    5.123964\n",
       "Name: host_since, dtype: float64"
      ]
     },
     "execution_count": 10,
     "metadata": {},
     "output_type": "execute_result"
    }
   ],
   "source": [
    "#We need to convert some variables\n",
    "\n",
    "seattle_cleaned = get_date_diff(seattle_cleaned, 'host_since', seattle_date)\n",
    "seattle_cleaned = get_date_diff(seattle_cleaned, 'first_review', seattle_date)\n",
    "seattle_cleaned = get_date_diff(seattle_cleaned, 'last_review', seattle_date)\n",
    "\n",
    "seattle_cleaned['host_since'].head()"
   ]
  },
  {
   "cell_type": "code",
   "execution_count": 11,
   "metadata": {},
   "outputs": [],
   "source": [
    "#Convert some moree numbers encoded as strings to numbers\n",
    "\n",
    "#Convert rates\n",
    "seattle_cleaned['host_response_rate'] = seattle_cleaned['host_response_rate'].apply(lambda x: float(x[:-1]) if isinstance(x,str) else x)\n",
    "seattle_cleaned['host_acceptance_rate'] = seattle_cleaned['host_acceptance_rate'].apply(lambda x: float(x[:-1]) if isinstance(x,str) else x)\n",
    "\n",
    "#Amounts in dollars. Have a digit ',' separator in them\n",
    "seattle_cleaned['price'] = seattle_cleaned['price'].apply(lambda x: float(x[1:].replace(',','')) if isinstance(x,str) else x)\n",
    "seattle_cleaned['cleaning_fee'] = seattle_cleaned['cleaning_fee'].apply(lambda x: float(x[1:].replace(',','')) if isinstance(x,str) else x)\n",
    "seattle_cleaned['extra_people'] = seattle_cleaned['extra_people'].apply(lambda x: float(x[1:].replace(',','')) if isinstance(x,str) else x)\n"
   ]
  },
  {
   "cell_type": "code",
   "execution_count": 33,
   "metadata": {},
   "outputs": [],
   "source": [
    "def get_center_dist(df, center_lat, center_long):\n",
    "    \"\"\"\n",
    "    The function takes a AirBnB DataFrame and the latitude and longitude\n",
    "    of the city center, and then it outputs a dataframe with an added column\n",
    "    that has a distance from the center\n",
    "    \n",
    "    Args:\n",
    "    df (DataFrame): DataFrame that needs distance to center to be added\n",
    "    center_lat (float): latitude of the city center\n",
    "    center_long (float): longitude of the city center\n",
    "    \n",
    "    Out:\n",
    "    df (DataFrame): DataFrame with the longitude column added\n",
    "    \"\"\"\n",
    "    def dist(row, center_lat=center_lat, center_long=center_long):\n",
    "        res = (row['latitude'] - center_lat)**2 + (row['longitude'] - center_long)**2\n",
    "        return res\n",
    "    \n",
    "    dist_col = df.apply(dist, axis = 1)\n",
    "    df['dist_to_center'] = dist_col\n",
    "    return df"
   ]
  },
  {
   "cell_type": "code",
   "execution_count": 34,
   "metadata": {},
   "outputs": [],
   "source": [
    "#We'll define the residential center of the city \n",
    "#as the mean in latitude and the mean in longitude\n",
    "cent_lat = seattle_cleaned.mean()['latitude']\n",
    "cent_long = seattle_cleaned.mean()['longitude']\n",
    "\n",
    "s_dist = get_center_dist(seattle_cleaned, cent_lat, cent_long)"
   ]
  },
  {
   "cell_type": "code",
   "execution_count": 36,
   "metadata": {},
   "outputs": [],
   "source": [
    "#We don't need longitude and latitude anymore\n",
    "s_dist.drop(['latitude','longitude'],axis=1,inplace=True)"
   ]
  },
  {
   "cell_type": "code",
   "execution_count": 41,
   "metadata": {},
   "outputs": [
    {
     "data": {
      "text/plain": [
       "array([0.00000000e+00, 1.35714286e-01, 5.19480519e-03, 1.00000000e+00,\n",
       "       1.62337662e-03, 9.74025974e-04, 3.57142857e-03, 3.24675325e-03,\n",
       "       9.82467532e-01, 3.00649351e-01, 2.03571429e-01])"
      ]
     },
     "execution_count": 41,
     "metadata": {},
     "output_type": "execute_result"
    }
   ],
   "source": [
    "#Analyse fraction of missing values by column\n",
    "miss_fracts = s_dist.isnull().sum() / len(s_dist)\n",
    "miss_fracts.unique()"
   ]
  },
  {
   "cell_type": "code",
   "execution_count": 43,
   "metadata": {},
   "outputs": [],
   "source": [
    "#We need to drop everything with more than a certain amount of missing values\n",
    "#We'll drop columns that miss more than 30%. The percentage is based on based on\n",
    "#miss_fracts.unique()\n",
    "miss_fracts = miss_fracts[miss_fracts >= 0.3]"
   ]
  },
  {
   "cell_type": "code",
   "execution_count": 44,
   "metadata": {},
   "outputs": [
    {
     "data": {
      "text/plain": [
       "neighbourhood_group_cleansed    1.000000\n",
       "square_feet                     0.982468\n",
       "cleaning_fee                    0.300649\n",
       "has_availability                1.000000\n",
       "jurisdiction_names              1.000000\n",
       "dtype: float64"
      ]
     },
     "execution_count": 44,
     "metadata": {},
     "output_type": "execute_result"
    }
   ],
   "source": [
    "miss_fracts"
   ]
  },
  {
   "cell_type": "code",
   "execution_count": 45,
   "metadata": {},
   "outputs": [],
   "source": [
    "s_dist.drop(labels=list(miss_fracts.index),axis=1,inplace=True)"
   ]
  },
  {
   "cell_type": "code",
   "execution_count": 46,
   "metadata": {},
   "outputs": [
    {
     "data": {
      "text/plain": [
       "False"
      ]
     },
     "execution_count": 46,
     "metadata": {},
     "output_type": "execute_result"
    }
   ],
   "source": [
    "#Check that our main target has no missing values\n",
    "s_dist['price'].isnull().values.any()"
   ]
  },
  {
   "cell_type": "markdown",
   "metadata": {},
   "source": [
    "## Data preparation: one function (after imports, start running from here)\n",
    "\n",
    "What is outlined above is exploratory data preparation. We need to combine the parts of the cells above that process the data (omitting the ones that output all the descriptive results we used to build the process). This will allow us to run all the data processing in one step."
   ]
  },
  {
   "cell_type": "code",
   "execution_count": 24,
   "metadata": {},
   "outputs": [],
   "source": [
    "def data_load_and_preprocess(listings_csv_path, \n",
    "                             drop_cols, list_cols, date_cols, rate_cols, dollar_cols,\n",
    "                            miss_cutoff, drop_nonexact=False):\n",
    "    \"\"\"\n",
    "    Does all the data preparation in one step.\n",
    "    \n",
    "    Args:\n",
    "    listings_csv_path (str): path to a city listings csv file\n",
    "    drop_cols (list): columns to be dropped\n",
    "    list_cols (list): columns with encoded lists that need to be broken up\n",
    "    date_cols (list): columns with dates that need to be turned into log difference\n",
    "               with the current date\n",
    "    rate_cols (list): columns with rates that need to be converted into floats\n",
    "    dollar_cols (list): columns with dollar values that need to be converted into floats\n",
    "    miss_cutoff (float): rate of missing values above which columns should be dropped\n",
    "    drop_nonexact (bool): whether we should drop rows with nonexact locations\n",
    "    \n",
    "    Out:\n",
    "    listings_cleaned (DataFrame): a preprocessed DataFrame\n",
    "    listings_long_lat (DataFrame): longitude and latitude columns from the\n",
    "                                   original DataFrame\n",
    "    \"\"\"\n",
    "    \n",
    "    #Helper functions\n",
    "    def drop_listing_cols(df, drop_cols, drop_nonexact=False):\n",
    "        \"\"\"\n",
    "        Function cleans a listings DataFrame by dropping a list of columns\n",
    "        and then dropping th elistings with nonexact location if needed\n",
    "        \"\"\"\n",
    "        #Need to ignore errors because we'll be applying this to two cities\n",
    "        #and this lets us to apply the Seattle column list to Boston\n",
    "        #without worrying about a couple columns not existing in the\n",
    "        #Boston dataset\n",
    "\n",
    "        pre_df = df.drop(drop_cols, axis=1,errors='ignore')\n",
    "\n",
    "        #Under our circumstances, it's not necessary to drop non-exact locations\n",
    "        #as AirBnB guarantees that locations are accurate with 150-meter accuracy\n",
    "        #anyway: http://insideairbnb.com/about.html#disclaimers\n",
    "        if drop_nonexact:\n",
    "            pre_df = pre_df[pre_df['is_location_exact'] == 't']\n",
    "\n",
    "        #Drop is_location_exact as it's a purelytechnical variable\n",
    "        #and we have no more use for it\n",
    "        pre_df = pre_df.drop(['is_location_exact'], axis=1)\n",
    "\n",
    "        return pre_df\n",
    "    \n",
    "    def split_itemlist(in_str, prefix='', sep=',', search=['\"',\"'\",'/',' '], replace=['','','','_']):\n",
    "        \"\"\"\n",
    "        Function splits a string into a list of items and reformats them to be usable as column names\n",
    "\n",
    "        Args:\n",
    "            in_str(str): string to be split into a list of formatted column names\n",
    "        Output:\n",
    "            out_list(list): list of formatted column names\n",
    "        \"\"\"\n",
    "\n",
    "        #Remove the braces if they exist\n",
    "        if in_str[0] in ['[','{']:\n",
    "            in_str = in_str[1:-1]\n",
    "\n",
    "        out_list = in_str.split(sep)\n",
    "        for ind, item in enumerate(out_list):\n",
    "            temp_str = out_list[ind]\n",
    "            temp_str = temp_str.lower()\n",
    "            temp_str = temp_str.strip()\n",
    "            for s, r in zip(search, replace):\n",
    "                temp_str = temp_str.replace(s,r)\n",
    "            out_list[ind] = temp_str\n",
    "\n",
    "        return out_list\n",
    "    \n",
    "    def split_combination(df,col_list):\n",
    "        \"\"\"\n",
    "        Function splits a columns which has a string encoding a list of options in it\n",
    "        each option gets its own dummy column encoded with 1 and 0. Original column is dropped.\n",
    "        Resets the DataFrame index to make sure that everything fits.\n",
    "\n",
    "        Note on implementation: it's important to avoid editing a DataFrame inside a loop,\n",
    "        so that's why we use a numpy array and then convert and concatenate.\n",
    "\n",
    "        Args:\n",
    "            in_df(DataFrame): DataFrame with columns to be split\n",
    "        Output:\n",
    "            df(DataFrame): DataFrame with split columns\n",
    "        \"\"\"\n",
    "\n",
    "        df.reset_index()\n",
    "\n",
    "        new_cols = {}\n",
    "\n",
    "        #Let's preallocate space for new columns\n",
    "        #This will break if we need to add more than 100 columns\n",
    "        #but it's fine for our problem\n",
    "\n",
    "        new_arr = np.zeros((len(df), 100))\n",
    "\n",
    "        rcount = 0\n",
    "        #print(df.head())\n",
    "        col_ind = 0\n",
    "        for index,row in df.iterrows():\n",
    "            #print(row['amenities'])\n",
    "            for col in col_list:\n",
    "                #print(col)\n",
    "                split_list = split_itemlist(row[col],prefix=(col + '_'))\n",
    "                for sp_col in split_list:\n",
    "                    if not(sp_col in new_cols):\n",
    "                        #print(sp_col)\n",
    "                        #print(new_cols)\n",
    "                        new_cols[sp_col] = col_ind\n",
    "                        col_ind += 1\n",
    "                    try:\n",
    "                        new_arr[rcount][new_cols[sp_col]] = 1\n",
    "                    except:\n",
    "                        print(new_cols)\n",
    "                        raise\n",
    "            rcount += 1\n",
    "\n",
    "        new_arr = new_arr[:,:len(new_cols)]\n",
    "\n",
    "        #df[new_cols.keys()] = new_arr\n",
    "\n",
    "        app_df = pd.DataFrame(new_arr, columns=new_cols.keys(), index=df.index)\n",
    "        df = pd.concat([df, app_df], axis=1)\n",
    "        #Drop the original columns\n",
    "        df = df.drop(labels=col_list, axis=1)\n",
    "\n",
    "        return df\n",
    "    \n",
    "    def get_date_diff(df, col, cur_date_str, dt_format='%Y-%m-%d'):\n",
    "        \"\"\"\n",
    "        Turns a column of string-encoded dates to a column\n",
    "        of log-differences between the encoded date and the current date\n",
    "\n",
    "        Args:\n",
    "        df (DataFrame): DataFrame with the column to be reencoded\n",
    "        col (str) - name of the column\n",
    "        cur_date_str (str): the date at which the Dataset was formed\n",
    "            last scrape date or equivalent should be passed in dt_format\n",
    "            format\n",
    "        dt_format (str) - date format to use for encoding\n",
    "        \n",
    "        Out:\n",
    "        df (DataFrame): DataFrame with date converted to long diff\n",
    "                        with current date\n",
    "        \"\"\"\n",
    "\n",
    "        cur_date = dt.strptime(cur_date_str,dt_format)\n",
    "        df[col] = df[col].apply(lambda x: dt.strptime(x,dt_format) if isinstance(x, str) else x)\n",
    "\n",
    "        #We expect the effect of date differences to be larger when they are small, \n",
    "        #so let's reingeneer the differnce into logarithmic scale\n",
    "        df[col] = df[col].apply(lambda x: np.log((cur_date - x).days) if isinstance(x, datetime.date) else x)\n",
    "\n",
    "        return df\n",
    "    \n",
    "    def get_center_dist(df, center_lat, center_long):\n",
    "        \"\"\"\n",
    "        The function takes a AirBnB DataFrame and the latitude and longitude\n",
    "        of the city center, and then it outputs a dataframe with an added column\n",
    "        that has a distance from the center\n",
    "        \"\"\"\n",
    "        def dist(row, center_lat=center_lat, center_long=center_long):\n",
    "            res = (row['latitude'] - center_lat)**2 + (row['longitude'] - center_long)**2\n",
    "            return res\n",
    "\n",
    "        dist_col = df.apply(dist, axis = 1)\n",
    "        df['dist_to_center'] = dist_col\n",
    "        return df\n",
    "    \n",
    "    #Main script\n",
    "    listings_df = pd.read_csv(listings_csv_path,sep=',',quotechar='\"')\n",
    "    \n",
    "    #Get current date\n",
    "    listings_date = listings_df['last_scraped'].iloc[0]\n",
    "    \n",
    "    #Drop the unnecessary columns\n",
    "    listings_cleaned = drop_listing_cols(listings_df, drop_cols)\n",
    "    #Expand columns that have lists encoded in them\n",
    "    listings_cleaned = split_combination(listings_cleaned,list_cols)\n",
    "    \n",
    "    for col in date_cols:\n",
    "        listings_cleaned = get_date_diff(listings_cleaned, col, listings_date)\n",
    "    \n",
    "    #The 'isinstance' is there to make sure that if the column is already reencoded,\n",
    "    #nothing happens\n",
    "    for col in rate_cols:\n",
    "        listings_cleaned[col] = listings_cleaned[col].apply(lambda x: float(x[:-1]) if isinstance(x,str) else x)\n",
    "    \n",
    "    for col in dollar_cols:\n",
    "        listings_cleaned[col] = listings_cleaned[col].apply(lambda x: float(x[1:].replace(',','')) if isinstance(x,str) else x)\n",
    "    \n",
    "    #Add a column with the diestance to the city center\n",
    "    cent_lat = listings_cleaned.mean()['latitude']\n",
    "    cent_long = listings_cleaned.mean()['longitude']\n",
    "\n",
    "    listings_cleaned = get_center_dist(listings_cleaned, cent_lat, cent_long)\n",
    "    listings_long_lat = listings_cleaned[['longitude','latitude']]\n",
    "    listings_cleaned.drop(['latitude','longitude'],axis=1,inplace=True)\n",
    "    \n",
    "    #Remove columns with too many missing values\n",
    "    miss_fracts = listings_cleaned.isnull().sum() / len(listings_cleaned)\n",
    "    miss_fracts = miss_fracts[miss_fracts >= 0.3]\n",
    "    listings_cleaned.drop(labels=list(miss_fracts.index),axis=1,inplace=True)\n",
    "    \n",
    "    return listings_cleaned, listings_long_lat"
   ]
  },
  {
   "cell_type": "code",
   "execution_count": 20,
   "metadata": {},
   "outputs": [],
   "source": [
    "#Default settings for preprocessing\n",
    "#About the review scores: for this analysis, we'll be keeping only\n",
    "#the integral score as the second target variable we'll be analyzing\n",
    "drop_cols = [\n",
    "    'listing_url', 'thumbnail_url', 'medium_url', 'picture_url', 'xl_picture_url', 'host_thumbnail_url', 'host_picture_url', \n",
    "    'scrape_id', 'last_scraped', \n",
    "    'name', 'summary', 'space', 'description', 'experiences_offered', 'neighborhood_overview', 'notes', 'transit', \n",
    "    'host_name', 'host_about', 'host_location', 'host_id', 'host_url',\n",
    "    'street', 'neighbourhood', 'city', 'state', 'market', 'country_code', 'country', 'smart_location', \n",
    "    'weekly_price', 'monthly_price', 'security_deposit', 'requires_license', 'license','calendar_last_scraped',\n",
    "    'review_scores_accuracy', 'review_scores_cleanliness', 'review_scores_checkin', \n",
    "    'review_scores_communication', 'review_scores_location', 'review_scores_value',\n",
    "    'access','interaction','house_rules'\n",
    "]\n",
    "list_cols = ['amenities','host_verifications']\n",
    "date_cols = ['host_since','first_review','last_review']\n",
    "rate_cols = ['host_response_rate','host_acceptance_rate']\n",
    "dollar_cols = ['price','cleaning_fee','extra_people']\n",
    "miss_cutoff = 0.3"
   ]
  },
  {
   "cell_type": "code",
   "execution_count": 25,
   "metadata": {},
   "outputs": [
    {
     "data": {
      "text/html": [
       "<div>\n",
       "<style scoped>\n",
       "    .dataframe tbody tr th:only-of-type {\n",
       "        vertical-align: middle;\n",
       "    }\n",
       "\n",
       "    .dataframe tbody tr th {\n",
       "        vertical-align: top;\n",
       "    }\n",
       "\n",
       "    .dataframe thead th {\n",
       "        text-align: right;\n",
       "    }\n",
       "</style>\n",
       "<table border=\"1\" class=\"dataframe\">\n",
       "  <thead>\n",
       "    <tr style=\"text-align: right;\">\n",
       "      <th></th>\n",
       "      <th>id</th>\n",
       "      <th>host_since</th>\n",
       "      <th>host_response_time</th>\n",
       "      <th>host_response_rate</th>\n",
       "      <th>host_acceptance_rate</th>\n",
       "      <th>host_is_superhost</th>\n",
       "      <th>host_neighbourhood</th>\n",
       "      <th>host_listings_count</th>\n",
       "      <th>host_total_listings_count</th>\n",
       "      <th>host_has_profile_pic</th>\n",
       "      <th>...</th>\n",
       "      <th>pool</th>\n",
       "      <th>smoking_allowed</th>\n",
       "      <th>other_pet(s)</th>\n",
       "      <th>sent_id</th>\n",
       "      <th>doorman</th>\n",
       "      <th>photographer</th>\n",
       "      <th>none</th>\n",
       "      <th>weibo</th>\n",
       "      <th>washer__dryer</th>\n",
       "      <th>dist_to_center</th>\n",
       "    </tr>\n",
       "  </thead>\n",
       "  <tbody>\n",
       "    <tr>\n",
       "      <th>0</th>\n",
       "      <td>241032</td>\n",
       "      <td>7.382124</td>\n",
       "      <td>within a few hours</td>\n",
       "      <td>96.0</td>\n",
       "      <td>100.0</td>\n",
       "      <td>f</td>\n",
       "      <td>Queen Anne</td>\n",
       "      <td>3.0</td>\n",
       "      <td>3.0</td>\n",
       "      <td>t</td>\n",
       "      <td>...</td>\n",
       "      <td>0.0</td>\n",
       "      <td>0.0</td>\n",
       "      <td>0.0</td>\n",
       "      <td>0.0</td>\n",
       "      <td>0.0</td>\n",
       "      <td>0.0</td>\n",
       "      <td>0.0</td>\n",
       "      <td>0.0</td>\n",
       "      <td>0.0</td>\n",
       "      <td>0.001492</td>\n",
       "    </tr>\n",
       "    <tr>\n",
       "      <th>1</th>\n",
       "      <td>953595</td>\n",
       "      <td>6.953684</td>\n",
       "      <td>within an hour</td>\n",
       "      <td>98.0</td>\n",
       "      <td>100.0</td>\n",
       "      <td>t</td>\n",
       "      <td>Queen Anne</td>\n",
       "      <td>6.0</td>\n",
       "      <td>6.0</td>\n",
       "      <td>t</td>\n",
       "      <td>...</td>\n",
       "      <td>0.0</td>\n",
       "      <td>0.0</td>\n",
       "      <td>0.0</td>\n",
       "      <td>0.0</td>\n",
       "      <td>0.0</td>\n",
       "      <td>0.0</td>\n",
       "      <td>0.0</td>\n",
       "      <td>0.0</td>\n",
       "      <td>0.0</td>\n",
       "      <td>0.001164</td>\n",
       "    </tr>\n",
       "    <tr>\n",
       "      <th>2</th>\n",
       "      <td>3308979</td>\n",
       "      <td>6.347389</td>\n",
       "      <td>within a few hours</td>\n",
       "      <td>67.0</td>\n",
       "      <td>100.0</td>\n",
       "      <td>f</td>\n",
       "      <td>Queen Anne</td>\n",
       "      <td>2.0</td>\n",
       "      <td>2.0</td>\n",
       "      <td>t</td>\n",
       "      <td>...</td>\n",
       "      <td>0.0</td>\n",
       "      <td>0.0</td>\n",
       "      <td>0.0</td>\n",
       "      <td>0.0</td>\n",
       "      <td>0.0</td>\n",
       "      <td>0.0</td>\n",
       "      <td>0.0</td>\n",
       "      <td>0.0</td>\n",
       "      <td>0.0</td>\n",
       "      <td>0.001324</td>\n",
       "    </tr>\n",
       "    <tr>\n",
       "      <th>3</th>\n",
       "      <td>7421966</td>\n",
       "      <td>6.670766</td>\n",
       "      <td>NaN</td>\n",
       "      <td>NaN</td>\n",
       "      <td>NaN</td>\n",
       "      <td>f</td>\n",
       "      <td>Queen Anne</td>\n",
       "      <td>1.0</td>\n",
       "      <td>1.0</td>\n",
       "      <td>t</td>\n",
       "      <td>...</td>\n",
       "      <td>0.0</td>\n",
       "      <td>0.0</td>\n",
       "      <td>0.0</td>\n",
       "      <td>0.0</td>\n",
       "      <td>0.0</td>\n",
       "      <td>0.0</td>\n",
       "      <td>0.0</td>\n",
       "      <td>0.0</td>\n",
       "      <td>0.0</td>\n",
       "      <td>0.001399</td>\n",
       "    </tr>\n",
       "    <tr>\n",
       "      <th>4</th>\n",
       "      <td>278830</td>\n",
       "      <td>7.311218</td>\n",
       "      <td>within an hour</td>\n",
       "      <td>100.0</td>\n",
       "      <td>NaN</td>\n",
       "      <td>f</td>\n",
       "      <td>Queen Anne</td>\n",
       "      <td>2.0</td>\n",
       "      <td>2.0</td>\n",
       "      <td>t</td>\n",
       "      <td>...</td>\n",
       "      <td>0.0</td>\n",
       "      <td>0.0</td>\n",
       "      <td>0.0</td>\n",
       "      <td>0.0</td>\n",
       "      <td>0.0</td>\n",
       "      <td>0.0</td>\n",
       "      <td>0.0</td>\n",
       "      <td>0.0</td>\n",
       "      <td>0.0</td>\n",
       "      <td>0.001565</td>\n",
       "    </tr>\n",
       "  </tbody>\n",
       "</table>\n",
       "<p>5 rows × 102 columns</p>\n",
       "</div>"
      ],
      "text/plain": [
       "        id  host_since  host_response_time  host_response_rate  \\\n",
       "0   241032    7.382124  within a few hours                96.0   \n",
       "1   953595    6.953684      within an hour                98.0   \n",
       "2  3308979    6.347389  within a few hours                67.0   \n",
       "3  7421966    6.670766                 NaN                 NaN   \n",
       "4   278830    7.311218      within an hour               100.0   \n",
       "\n",
       "   host_acceptance_rate host_is_superhost host_neighbourhood  \\\n",
       "0                 100.0                 f         Queen Anne   \n",
       "1                 100.0                 t         Queen Anne   \n",
       "2                 100.0                 f         Queen Anne   \n",
       "3                   NaN                 f         Queen Anne   \n",
       "4                   NaN                 f         Queen Anne   \n",
       "\n",
       "   host_listings_count  host_total_listings_count host_has_profile_pic  ...  \\\n",
       "0                  3.0                        3.0                    t  ...   \n",
       "1                  6.0                        6.0                    t  ...   \n",
       "2                  2.0                        2.0                    t  ...   \n",
       "3                  1.0                        1.0                    t  ...   \n",
       "4                  2.0                        2.0                    t  ...   \n",
       "\n",
       "  pool smoking_allowed other_pet(s) sent_id doorman photographer  none  weibo  \\\n",
       "0  0.0             0.0          0.0     0.0     0.0          0.0   0.0    0.0   \n",
       "1  0.0             0.0          0.0     0.0     0.0          0.0   0.0    0.0   \n",
       "2  0.0             0.0          0.0     0.0     0.0          0.0   0.0    0.0   \n",
       "3  0.0             0.0          0.0     0.0     0.0          0.0   0.0    0.0   \n",
       "4  0.0             0.0          0.0     0.0     0.0          0.0   0.0    0.0   \n",
       "\n",
       "   washer__dryer  dist_to_center  \n",
       "0            0.0        0.001492  \n",
       "1            0.0        0.001164  \n",
       "2            0.0        0.001324  \n",
       "3            0.0        0.001399  \n",
       "4            0.0        0.001565  \n",
       "\n",
       "[5 rows x 102 columns]"
      ]
     },
     "execution_count": 25,
     "metadata": {},
     "output_type": "execute_result"
    }
   ],
   "source": [
    "#Let's load Seattle data\n",
    "seattle_csv_path = r'data\\seattle\\listings.csv'\n",
    "seattle_clean, seattle_long_lat = data_load_and_preprocess(seattle_csv_path, \n",
    "                                         drop_cols, list_cols, date_cols, rate_cols, dollar_cols,\n",
    "                                         miss_cutoff)\n",
    "\n",
    "seattle_clean.head()\n"
   ]
  },
  {
   "cell_type": "code",
   "execution_count": 26,
   "metadata": {},
   "outputs": [
    {
     "data": {
      "text/html": [
       "<div>\n",
       "<style scoped>\n",
       "    .dataframe tbody tr th:only-of-type {\n",
       "        vertical-align: middle;\n",
       "    }\n",
       "\n",
       "    .dataframe tbody tr th {\n",
       "        vertical-align: top;\n",
       "    }\n",
       "\n",
       "    .dataframe thead th {\n",
       "        text-align: right;\n",
       "    }\n",
       "</style>\n",
       "<table border=\"1\" class=\"dataframe\">\n",
       "  <thead>\n",
       "    <tr style=\"text-align: right;\">\n",
       "      <th></th>\n",
       "      <th>id</th>\n",
       "      <th>host_since</th>\n",
       "      <th>host_response_time</th>\n",
       "      <th>host_response_rate</th>\n",
       "      <th>host_acceptance_rate</th>\n",
       "      <th>host_is_superhost</th>\n",
       "      <th>host_neighbourhood</th>\n",
       "      <th>host_listings_count</th>\n",
       "      <th>host_total_listings_count</th>\n",
       "      <th>host_has_profile_pic</th>\n",
       "      <th>...</th>\n",
       "      <th>google</th>\n",
       "      <th>wheelchair_accessible</th>\n",
       "      <th>elevator_in_building</th>\n",
       "      <th>sent_id</th>\n",
       "      <th>pool</th>\n",
       "      <th>doorman</th>\n",
       "      <th>weibo</th>\n",
       "      <th>paid_parking_off_premises</th>\n",
       "      <th>free_parking_on_street</th>\n",
       "      <th>dist_to_center</th>\n",
       "    </tr>\n",
       "  </thead>\n",
       "  <tbody>\n",
       "    <tr>\n",
       "      <th>0</th>\n",
       "      <td>12147973</td>\n",
       "      <td>6.236370</td>\n",
       "      <td>NaN</td>\n",
       "      <td>NaN</td>\n",
       "      <td>NaN</td>\n",
       "      <td>f</td>\n",
       "      <td>Roslindale</td>\n",
       "      <td>1</td>\n",
       "      <td>1</td>\n",
       "      <td>t</td>\n",
       "      <td>...</td>\n",
       "      <td>0.0</td>\n",
       "      <td>0.0</td>\n",
       "      <td>0.0</td>\n",
       "      <td>0.0</td>\n",
       "      <td>0.0</td>\n",
       "      <td>0.0</td>\n",
       "      <td>0.0</td>\n",
       "      <td>0.0</td>\n",
       "      <td>0.0</td>\n",
       "      <td>0.005624</td>\n",
       "    </tr>\n",
       "    <tr>\n",
       "      <th>1</th>\n",
       "      <td>3075044</td>\n",
       "      <td>7.347944</td>\n",
       "      <td>within an hour</td>\n",
       "      <td>100.0</td>\n",
       "      <td>100.0</td>\n",
       "      <td>f</td>\n",
       "      <td>Roslindale</td>\n",
       "      <td>1</td>\n",
       "      <td>1</td>\n",
       "      <td>t</td>\n",
       "      <td>...</td>\n",
       "      <td>0.0</td>\n",
       "      <td>0.0</td>\n",
       "      <td>0.0</td>\n",
       "      <td>0.0</td>\n",
       "      <td>0.0</td>\n",
       "      <td>0.0</td>\n",
       "      <td>0.0</td>\n",
       "      <td>0.0</td>\n",
       "      <td>0.0</td>\n",
       "      <td>0.005349</td>\n",
       "    </tr>\n",
       "    <tr>\n",
       "      <th>2</th>\n",
       "      <td>6976</td>\n",
       "      <td>7.892078</td>\n",
       "      <td>within a few hours</td>\n",
       "      <td>100.0</td>\n",
       "      <td>88.0</td>\n",
       "      <td>t</td>\n",
       "      <td>Roslindale</td>\n",
       "      <td>1</td>\n",
       "      <td>1</td>\n",
       "      <td>t</td>\n",
       "      <td>...</td>\n",
       "      <td>0.0</td>\n",
       "      <td>0.0</td>\n",
       "      <td>0.0</td>\n",
       "      <td>0.0</td>\n",
       "      <td>0.0</td>\n",
       "      <td>0.0</td>\n",
       "      <td>0.0</td>\n",
       "      <td>0.0</td>\n",
       "      <td>0.0</td>\n",
       "      <td>0.004861</td>\n",
       "    </tr>\n",
       "    <tr>\n",
       "      <th>3</th>\n",
       "      <td>1436513</td>\n",
       "      <td>7.118826</td>\n",
       "      <td>within a few hours</td>\n",
       "      <td>100.0</td>\n",
       "      <td>50.0</td>\n",
       "      <td>f</td>\n",
       "      <td>NaN</td>\n",
       "      <td>1</td>\n",
       "      <td>1</td>\n",
       "      <td>t</td>\n",
       "      <td>...</td>\n",
       "      <td>0.0</td>\n",
       "      <td>0.0</td>\n",
       "      <td>0.0</td>\n",
       "      <td>0.0</td>\n",
       "      <td>0.0</td>\n",
       "      <td>0.0</td>\n",
       "      <td>0.0</td>\n",
       "      <td>0.0</td>\n",
       "      <td>0.0</td>\n",
       "      <td>0.004783</td>\n",
       "    </tr>\n",
       "    <tr>\n",
       "      <th>4</th>\n",
       "      <td>7651065</td>\n",
       "      <td>6.745236</td>\n",
       "      <td>within an hour</td>\n",
       "      <td>100.0</td>\n",
       "      <td>100.0</td>\n",
       "      <td>t</td>\n",
       "      <td>Roslindale</td>\n",
       "      <td>1</td>\n",
       "      <td>1</td>\n",
       "      <td>t</td>\n",
       "      <td>...</td>\n",
       "      <td>0.0</td>\n",
       "      <td>0.0</td>\n",
       "      <td>0.0</td>\n",
       "      <td>0.0</td>\n",
       "      <td>0.0</td>\n",
       "      <td>0.0</td>\n",
       "      <td>0.0</td>\n",
       "      <td>0.0</td>\n",
       "      <td>0.0</td>\n",
       "      <td>0.005729</td>\n",
       "    </tr>\n",
       "  </tbody>\n",
       "</table>\n",
       "<p>5 rows × 100 columns</p>\n",
       "</div>"
      ],
      "text/plain": [
       "         id  host_since  host_response_time  host_response_rate  \\\n",
       "0  12147973    6.236370                 NaN                 NaN   \n",
       "1   3075044    7.347944      within an hour               100.0   \n",
       "2      6976    7.892078  within a few hours               100.0   \n",
       "3   1436513    7.118826  within a few hours               100.0   \n",
       "4   7651065    6.745236      within an hour               100.0   \n",
       "\n",
       "   host_acceptance_rate host_is_superhost host_neighbourhood  \\\n",
       "0                   NaN                 f         Roslindale   \n",
       "1                 100.0                 f         Roslindale   \n",
       "2                  88.0                 t         Roslindale   \n",
       "3                  50.0                 f                NaN   \n",
       "4                 100.0                 t         Roslindale   \n",
       "\n",
       "   host_listings_count  host_total_listings_count host_has_profile_pic  ...  \\\n",
       "0                    1                          1                    t  ...   \n",
       "1                    1                          1                    t  ...   \n",
       "2                    1                          1                    t  ...   \n",
       "3                    1                          1                    t  ...   \n",
       "4                    1                          1                    t  ...   \n",
       "\n",
       "  google wheelchair_accessible elevator_in_building sent_id pool  doorman  \\\n",
       "0    0.0                   0.0                  0.0     0.0  0.0      0.0   \n",
       "1    0.0                   0.0                  0.0     0.0  0.0      0.0   \n",
       "2    0.0                   0.0                  0.0     0.0  0.0      0.0   \n",
       "3    0.0                   0.0                  0.0     0.0  0.0      0.0   \n",
       "4    0.0                   0.0                  0.0     0.0  0.0      0.0   \n",
       "\n",
       "   weibo  paid_parking_off_premises  free_parking_on_street dist_to_center  \n",
       "0    0.0                        0.0                     0.0       0.005624  \n",
       "1    0.0                        0.0                     0.0       0.005349  \n",
       "2    0.0                        0.0                     0.0       0.004861  \n",
       "3    0.0                        0.0                     0.0       0.004783  \n",
       "4    0.0                        0.0                     0.0       0.005729  \n",
       "\n",
       "[5 rows x 100 columns]"
      ]
     },
     "execution_count": 26,
     "metadata": {},
     "output_type": "execute_result"
    }
   ],
   "source": [
    "#And now Boston\n",
    "boston_csv_path = r'data\\boston\\listings.csv'\n",
    "boston_clean, boston_long_lat = data_load_and_preprocess(boston_csv_path, \n",
    "                                         drop_cols, list_cols, date_cols, rate_cols, dollar_cols,\n",
    "                                         miss_cutoff)\n",
    "boston_clean.head()"
   ]
  },
  {
   "cell_type": "code",
   "execution_count": 54,
   "metadata": {},
   "outputs": [
    {
     "data": {
      "image/png": "[encoded data removed]",
      "text/plain": [
       "<Figure size 576x576 with 1 Axes>"
      ]
     },
     "metadata": {
      "needs_background": "light"
     },
     "output_type": "display_data"
    }
   ],
   "source": [
    "#Here we must check that the distribution in Seattle doesn't have \n",
    "#several equally important centers\n",
    "plt.figure(figsize=(8,8))\n",
    "plt.scatter(x=seattle_long_lat['longitude'],y=seattle_long_lat['latitude'])\n",
    "plt.title(\"AirBnB listings distribution in Seattle\", fontsize=18)\n",
    "plt.ylabel(\"Latitude\", fontsize=15)\n",
    "plt.xlabel(\"Longitude\", fontsize=15)\n",
    "#plt.show()\n",
    "plt.savefig('seattle_housing_distribution.png')"
   ]
  },
  {
   "cell_type": "code",
   "execution_count": 55,
   "metadata": {},
   "outputs": [
    {
     "data": {
      "image/png": "[encoded data removed]",
      "text/plain": [
       "<Figure size 576x576 with 1 Axes>"
      ]
     },
     "metadata": {
      "needs_background": "light"
     },
     "output_type": "display_data"
    }
   ],
   "source": [
    "#Here we must check that the distribution in Boston doesn't have \n",
    "#several equally important centers\n",
    "plt.figure(figsize=(8,8))\n",
    "plt.scatter(boston_long_lat['longitude'],boston_long_lat['latitude'])\n",
    "plt.title(\"AirBnB listings distribution in Boston\", fontsize=18)\n",
    "plt.ylabel(\"Latitude\", fontsize=15)\n",
    "plt.xlabel(\"Longitude\", fontsize=15)\n",
    "#plt.show()\n",
    "plt.savefig('boston_housing_distribution.png')"
   ]
  },
  {
   "cell_type": "markdown",
   "metadata": {},
   "source": [
    "## Data analysis\n",
    "It's time to find answers to our questions. If we cleaned the data right, this should be easy."
   ]
  },
  {
   "cell_type": "markdown",
   "metadata": {},
   "source": [
    "### Question 1: How is distance to center related to amenities? \n",
    "We have fartoo many amenities to look at everythink, so let's make the question more specific.\n",
    "Specifically, how is distance to center related to the number of beds, presence of wi-fi, and presence of a kitchen?"
   ]
  },
  {
   "cell_type": "markdown",
   "metadata": {},
   "source": [
    "### Toolkit for Question 1\n",
    "For this question it will be enough to look at correlations between dist_to_center, beds, wireless_internet, and kitchen."
   ]
  },
  {
   "cell_type": "code",
   "execution_count": 32,
   "metadata": {},
   "outputs": [],
   "source": [
    "#Set the columns\n",
    "cols = ['dist_to_center', 'beds', 'wireless_internet', 'kitchen']"
   ]
  },
  {
   "cell_type": "code",
   "execution_count": 62,
   "metadata": {},
   "outputs": [
    {
     "name": "stdout",
     "output_type": "stream",
     "text": [
      "dist_to_center       1.000000\n",
      "beds                 0.025743\n",
      "wireless_internet    0.002275\n",
      "kitchen             -0.098075\n",
      "Name: dist_to_center, dtype: float64\n"
     ]
    }
   ],
   "source": [
    "#Calculate and display results for Seattle\n",
    "print(seattle_clean[cols].corr().loc['dist_to_center',:])"
   ]
  },
  {
   "cell_type": "code",
   "execution_count": 63,
   "metadata": {},
   "outputs": [
    {
     "name": "stdout",
     "output_type": "stream",
     "text": [
      "dist_to_center       1.000000\n",
      "beds                 0.025735\n",
      "wireless_internet    0.021236\n",
      "kitchen             -0.060018\n",
      "Name: dist_to_center, dtype: float64\n"
     ]
    }
   ],
   "source": [
    "#And now for Boston\n",
    "print(boston_clean[cols].corr().loc['dist_to_center',:])"
   ]
  },
  {
   "cell_type": "markdown",
   "metadata": {},
   "source": [
    "### Discussing Question 1 results\n",
    "The correlations aren't very strong, but consistent across Seattle and Boston when it comes to the number of beds and the presence of a kitchen. The further from center, the more beds we found, and the less likely we were to find a kitchen. We were more likely to find wireless_internet, but the result was very different for the two cities, so we should put less stock in it.\n",
    "It must be noted, that correlation is bounded between -1 and 1, so these relationships aren't very strong.\n",
    "Listings on the edges of cities have more space available, so they have more beds. The lesser likelihood of finding a kitchen far from the city center is a surprise though. Is it because further from the center people are more likely to rent out rooms instead of entire flats or houses? This warrants further research."
   ]
  },
  {
   "cell_type": "markdown",
   "metadata": {},
   "source": [
    "### Representing results"
   ]
  },
  {
   "cell_type": "code",
   "execution_count": 50,
   "metadata": {},
   "outputs": [
    {
     "data": {
      "image/png": "[encoded data removed]",
      "text/plain": [
       "<Figure size 576x576 with 1 Axes>"
      ]
     },
     "metadata": {
      "needs_background": "light"
     },
     "output_type": "display_data"
    }
   ],
   "source": [
    "#Seattle results\n",
    "seattle_cors = seattle_clean[cols].corr().loc['dist_to_center',:]\n",
    "seattle_cors = seattle_cors.drop(['dist_to_center'], axis=0)\n",
    "\n",
    "plt.figure(figsize=(8,8))\n",
    "plt.bar(x=list(seattle_cors.index), height=seattle_cors, color=['g','g','r'], alpha=0.6)\n",
    "plt.xlabel('Amenity', fontsize=15)\n",
    "plt.xticks(fontsize=12)\n",
    "plt.ylabel('Correlation', fontsize=15)\n",
    "plt.ylim([-0.1,0.05])\n",
    "plt.title('Seattle\\nCorrelation between distance to center and anemities',fontsize=18)\n",
    "#plt.show()\n",
    "plt.savefig('seattle_dist_and_anemities.png')"
   ]
  },
  {
   "cell_type": "code",
   "execution_count": 51,
   "metadata": {},
   "outputs": [
    {
     "data": {
      "image/png": "[encoded data removed]",
      "text/plain": [
       "<Figure size 576x576 with 1 Axes>"
      ]
     },
     "metadata": {
      "needs_background": "light"
     },
     "output_type": "display_data"
    }
   ],
   "source": [
    "#Boston results\n",
    "boston_cors = boston_clean[cols].corr().loc['dist_to_center',:]\n",
    "boston_cors = boston_cors.drop(['dist_to_center'], axis=0)\n",
    "\n",
    "plt.figure(figsize=(8,8))\n",
    "plt.bar(x=list(boston_cors.index), height=boston_cors, color=['g','g','r'], alpha=0.6)\n",
    "plt.xlabel('Amenity', fontsize=15)\n",
    "plt.xticks(fontsize=12)\n",
    "plt.ylabel('Correlation', fontsize=15)\n",
    "plt.ylim([-0.1,0.05])\n",
    "plt.title('Boston\\nCorrelation between distance to center and amenities', fontsize=18)\n",
    "#plt.show()\n",
    "plt.savefig('boston_dist_and_anemities.png')"
   ]
  },
  {
   "cell_type": "markdown",
   "metadata": {},
   "source": [
    "### Additional data processing for Questions 2 and 3\n",
    "Questions 2 and 3 will have us runnning a Lasso regression on the data, and it requires that there be no missing values and that the qualitative variables be one-hot-encoded. Let's do the additional processing for both questions in one place."
   ]
  },
  {
   "cell_type": "code",
   "execution_count": 56,
   "metadata": {},
   "outputs": [],
   "source": [
    "#First we should drop the id column. We now know we won't be linking data from the other csv files\n",
    "seattle_clean = seattle_clean.drop('id', axis=1)\n",
    "boston_clean = boston_clean.drop('id', axis=1)"
   ]
  },
  {
   "cell_type": "code",
   "execution_count": 57,
   "metadata": {},
   "outputs": [],
   "source": [
    "t_col = ['price','review_scores_rating']\n",
    "quant_cols = ['host_since','host_response_rate','host_acceptance_rate',\n",
    "              'host_listings_count','host_total_listings_count','latitude','longitude',\n",
    "              'accommodates','bathrooms','bedrooms','beds','square_feet','price',\n",
    "              'cleaning_fee','guests_included','extra_people','minimum_nights','maximum_nights',\n",
    "              'calculated_host_listings_count','reviews_per_month','first_review','last_review',\n",
    "             'availability_30','availability_60','availability_90','availability_365',\n",
    "             'number_of_reviews','dist_to_center']"
   ]
  },
  {
   "cell_type": "code",
   "execution_count": 58,
   "metadata": {},
   "outputs": [],
   "source": [
    "def encode_and_impute(df, cols_not_encode):\n",
    "    \"\"\"\n",
    "    The function one-hot encodes qualitative variables\n",
    "    and imputes the missing values\n",
    "    \n",
    "    Args:\n",
    "    df (DataFrame): DataFrame that needs encoding and imputing\n",
    "\n",
    "    Out:\n",
    "    df (DataFrame): DataFrame after encoding and imputing\n",
    "    \"\"\"\n",
    "    \n",
    "    cols_to_encode = set(df.columns) - set(cols_not_encode)\n",
    "    df = pd.get_dummies(df,columns=cols_to_encode, drop_first=True)\n",
    "    #We should impute all the quantitive columns\n",
    "    df = df.fillna(df.mean())\n",
    "    \n",
    "    return df"
   ]
  },
  {
   "cell_type": "code",
   "execution_count": 59,
   "metadata": {},
   "outputs": [],
   "source": [
    "cols_not_encode = ['price','review_scores_rating',\n",
    "                  'host_since','host_response_rate','host_acceptance_rate',\n",
    "                  'host_listings_count','host_total_listings_count','latitude','longitude',\n",
    "                  'accommodates','bathrooms','bedrooms','beds','square_feet','price',\n",
    "                  'cleaning_fee','guests_included','extra_people','minimum_nights','maximum_nights',\n",
    "                  'calculated_host_listings_count','reviews_per_month','first_review','last_review',\n",
    "                  'availability_30','availability_60','availability_90','availability_365',\n",
    "                  'number_of_reviews','dist_to_center']"
   ]
  },
  {
   "cell_type": "code",
   "execution_count": 60,
   "metadata": {},
   "outputs": [],
   "source": [
    "seattle_clean = encode_and_impute(seattle_clean, cols_not_encode)\n",
    "boston_clean = encode_and_impute(boston_clean, cols_not_encode)"
   ]
  },
  {
   "cell_type": "markdown",
   "metadata": {},
   "source": [
    "### Finishing touches\n",
    "We should drop the id column and build a function that take a listings dataframe and separates it into the target variable and explanatory features column-wise and into the training and test sets row-wise."
   ]
  },
  {
   "cell_type": "code",
   "execution_count": 61,
   "metadata": {},
   "outputs": [],
   "source": [
    "def finish_listings(df, target_col, drop_cols=None, test_size=0.2, random_state=42):\n",
    "    \"\"\"\n",
    "    This function takes the dataset and returns the target column series\n",
    "    and a DataFrame that has the explanatory features\n",
    "    \n",
    "    Args:\n",
    "    df (DataFrame): DataFrame to be split\n",
    "    target_col (str): the target column name\n",
    "    drop_cols (list): a list of columns that need to be dropped before\n",
    "                      forming X\n",
    "    \n",
    "    Out:\n",
    "    X_train, X_test, y_train, y_test: split data\n",
    "    \"\"\"\n",
    "    \n",
    "    df1 = df.copy()\n",
    "    \n",
    "    if drop_cols:\n",
    "        df1.drop(drop_cols, axis=1, inplace=True)\n",
    "    \n",
    "    y = df1[target_col]\n",
    "    X = df1.drop(target_col, axis=1)\n",
    "    \n",
    "    #Now we need to standartize X\n",
    "    X_cols = X.columns\n",
    "    scaler = StandardScaler()\n",
    "    scaler.fit(X)\n",
    "    X = scaler.transform(X)\n",
    "    X = pd.DataFrame(X, columns=X_cols)\n",
    "    \n",
    "    X_train, X_test, y_train, y_test = train_test_split(X, y, test_size=0.2, random_state=42)\n",
    "    return X_train, X_test, y_train, y_test"
   ]
  },
  {
   "cell_type": "markdown",
   "metadata": {},
   "source": [
    "## Question 2. After controlling for other variables, how does distance to center influence price per day in Boston and Seattle?"
   ]
  },
  {
   "cell_type": "markdown",
   "metadata": {},
   "source": [
    "We could try answering this question this way:"
   ]
  },
  {
   "cell_type": "code",
   "execution_count": 62,
   "metadata": {},
   "outputs": [
    {
     "data": {
      "text/html": [
       "<div>\n",
       "<style scoped>\n",
       "    .dataframe tbody tr th:only-of-type {\n",
       "        vertical-align: middle;\n",
       "    }\n",
       "\n",
       "    .dataframe tbody tr th {\n",
       "        vertical-align: top;\n",
       "    }\n",
       "\n",
       "    .dataframe thead th {\n",
       "        text-align: right;\n",
       "    }\n",
       "</style>\n",
       "<table border=\"1\" class=\"dataframe\">\n",
       "  <thead>\n",
       "    <tr style=\"text-align: right;\">\n",
       "      <th></th>\n",
       "      <th>dist_to_center</th>\n",
       "      <th>price</th>\n",
       "    </tr>\n",
       "  </thead>\n",
       "  <tbody>\n",
       "    <tr>\n",
       "      <th>dist_to_center</th>\n",
       "      <td>1.000000</td>\n",
       "      <td>-0.130401</td>\n",
       "    </tr>\n",
       "    <tr>\n",
       "      <th>price</th>\n",
       "      <td>-0.130401</td>\n",
       "      <td>1.000000</td>\n",
       "    </tr>\n",
       "  </tbody>\n",
       "</table>\n",
       "</div>"
      ],
      "text/plain": [
       "                dist_to_center     price\n",
       "dist_to_center        1.000000 -0.130401\n",
       "price                -0.130401  1.000000"
      ]
     },
     "execution_count": 62,
     "metadata": {},
     "output_type": "execute_result"
    }
   ],
   "source": [
    "seattle_clean[['dist_to_center','price']].corr()"
   ]
  },
  {
   "cell_type": "markdown",
   "metadata": {},
   "source": [
    "This does tell us that distance to center is negatively related to price as we expected, but that is sloppy data science. There are a bunch of other factors that influence price that are correlated to distance to the city center, so we need to control for those. That's why we need to use a regression model with regularization to make sure that we ar elooking only at the influence of this particular variable on price.\n",
    "We'll be using a Lasso regressionas it is very good at removing unnecessary variables.\n",
    "Let's take a look."
   ]
  },
  {
   "cell_type": "code",
   "execution_count": 100,
   "metadata": {},
   "outputs": [
    {
     "name": "stdout",
     "output_type": "stream",
     "text": [
      "The model explained the following fraction of variance on the test set\n",
      "0.5486588552589107\n",
      "The distance to center coefficient is:\n",
      "-7.235286345405494\n",
      "The lowest coefficient is:  -14.507339913777091\n",
      "The largest coefficient is:  22.33147498541072\n"
     ]
    },
    {
     "name": "stderr",
     "output_type": "stream",
     "text": [
      "C:\\Users\\amatamune\\Anaconda3\\lib\\site-packages\\sklearn\\preprocessing\\data.py:645: DataConversionWarning: Data with input dtype uint8, int64, float64 were all converted to float64 by StandardScaler.\n",
      "  return self.partial_fit(X, y)\n",
      "C:\\Users\\amatamune\\Anaconda3\\lib\\site-packages\\ipykernel_launcher.py:28: DataConversionWarning: Data with input dtype uint8, int64, float64 were all converted to float64 by StandardScaler.\n"
     ]
    }
   ],
   "source": [
    "#Seattle\n",
    "#It's important to drop the review scores here as they are another target, and we\n",
    "#are mostly interested in apartment properties as features\n",
    "X_train, X_test, y_train, y_test = finish_listings(seattle_clean, 'price', 'review_scores_rating')\n",
    "\n",
    "#Make the regression and fit it\n",
    "#Note: different alphas were tested. The particular number isn't really important\n",
    "#alpha needs to be increased to unreasonable levels for distance to center to become\n",
    "#insignificant as a factor\n",
    "lr = Lasso(alpha=0.6)\n",
    "lr.fit(X_train,y_train)\n",
    "\n",
    "#Let's see how we did\n",
    "print('The model explained the following fraction of variance on the test set')\n",
    "print(lr.score(X_test,y_test))\n",
    "\n",
    "dist_index=list(X_test.columns).index('dist_to_center')\n",
    "print('The distance to center coefficient is:')\n",
    "print(lr.coef_[dist_index])\n",
    "print('The lowest coefficient is: ',lr.coef_.min())\n",
    "print('The largest coefficient is: ',lr.coef_.max())\n",
    "\n",
    "#This takes up way too much space\n",
    "#print('All the non-zero coefficients are:')\n",
    "#coef = np.array(lr.coef_)\n",
    "#coef_ind = (coef != 0)\n",
    "#print(list(zip(compress(list(X_test.columns),coef_ind),compress(list(coef),coef_ind))))"
   ]
  },
  {
   "cell_type": "code",
   "execution_count": 101,
   "metadata": {},
   "outputs": [
    {
     "data": {
      "image/png": "[encoded data removed]",
      "text/plain": [
       "<Figure size 576x576 with 1 Axes>"
      ]
     },
     "metadata": {
      "needs_background": "light"
     },
     "output_type": "display_data"
    }
   ],
   "source": [
    "#Representing results\n",
    "\n",
    "height = [lr.coef_.min(), lr.coef_[dist_index], lr.coef_.max()]\n",
    "x = ['min_coeff', 'dist_to_center_coeff', 'max_coeff']\n",
    "\n",
    "plt.figure(figsize=(8,8))\n",
    "plt.bar(x=x, height=height, color=['r','r','g'], alpha=0.6)\n",
    "plt.xticks(fontsize=12)\n",
    "plt.ylabel('Coefficient', fontsize=15)\n",
    "plt.ylim([-35,35])\n",
    "plt.title('Seattle\\ndistance to center influence on price',fontsize=18)\n",
    "#plt.show()\n",
    "plt.savefig('seattle_dist_and_price.png')"
   ]
  },
  {
   "cell_type": "code",
   "execution_count": 102,
   "metadata": {},
   "outputs": [
    {
     "name": "stdout",
     "output_type": "stream",
     "text": [
      "The model explained the following fraction of variance on the test set\n",
      "0.2474790545684812\n",
      "The distance to center coefficient is:\n",
      "-11.918981574190187\n",
      "The lowest coefficient is:  -25.871032266094353\n",
      "The largest coefficient is:  29.97129959198702\n"
     ]
    },
    {
     "name": "stderr",
     "output_type": "stream",
     "text": [
      "C:\\Users\\amatamune\\Anaconda3\\lib\\site-packages\\sklearn\\preprocessing\\data.py:645: DataConversionWarning: Data with input dtype uint8, int64, float64 were all converted to float64 by StandardScaler.\n",
      "  return self.partial_fit(X, y)\n",
      "C:\\Users\\amatamune\\Anaconda3\\lib\\site-packages\\ipykernel_launcher.py:28: DataConversionWarning: Data with input dtype uint8, int64, float64 were all converted to float64 by StandardScaler.\n"
     ]
    }
   ],
   "source": [
    "#Boston\n",
    "#It's important to drop the review scores here as they are another target, and we\n",
    "#are mostly interested in apartment properties as features\n",
    "X_train, X_test, y_train, y_test = finish_listings(boston_clean, 'price', 'review_scores_rating')\n",
    "\n",
    "#Make the regression and fit it\n",
    "#Note: different alphas were tested. The particular number isn't really important\n",
    "#alpha needs to be increased to unreasonable levels for distance to center to become\n",
    "#insignificant as a factor\n",
    "lr = Lasso(alpha=0.6)\n",
    "lr.fit(X_train,y_train)\n",
    "\n",
    "#Let's see how we did\n",
    "print('The model explained the following fraction of variance on the test set')\n",
    "print(lr.score(X_test,y_test))\n",
    "\n",
    "dist_index=list(X_test.columns).index('dist_to_center')\n",
    "print('The distance to center coefficient is:')\n",
    "print(lr.coef_[dist_index])\n",
    "print('The lowest coefficient is: ',lr.coef_.min())\n",
    "print('The largest coefficient is: ',lr.coef_.max())\n",
    "\n",
    "#This takes up way too much space\n",
    "#print('All the non-zero coefficients are:')\n",
    "#coef = np.array(lr.coef_)\n",
    "#coef_ind = (coef != 0)\n",
    "#print(list(zip(compress(list(X_test.columns),coef_ind),compress(list(coef),coef_ind))))"
   ]
  },
  {
   "cell_type": "code",
   "execution_count": 103,
   "metadata": {},
   "outputs": [
    {
     "data": {
      "image/png": "[encoded data removed]",
      "text/plain": [
       "<Figure size 576x576 with 1 Axes>"
      ]
     },
     "metadata": {
      "needs_background": "light"
     },
     "output_type": "display_data"
    }
   ],
   "source": [
    "#Representing results\n",
    "\n",
    "height = [lr.coef_.min(), lr.coef_[dist_index], lr.coef_.max()]\n",
    "x = ['min_coeff', 'dist_to_center_coeff', 'max_coeff']\n",
    "\n",
    "plt.figure(figsize=(8,8))\n",
    "plt.bar(x=x, height=height, color=['r','r','g'], alpha=0.6)\n",
    "plt.xticks(fontsize=12)\n",
    "plt.ylabel('Coefficient', fontsize=15)\n",
    "plt.ylim([-35,35])\n",
    "plt.title('Boston\\ndistance to center influence on price',fontsize=18)\n",
    "#plt.show()\n",
    "plt.savefig('Boston_dist_and_price.png')"
   ]
  },
  {
   "cell_type": "markdown",
   "metadata": {},
   "source": [
    "### Question 2 results discussion\n",
    "We see that the distance to center strongly impacts the price negatively for both cities even after controlling for neighborhoods and all the anemities. City center apartments come with easy access to tourist attractions and city facilities, so this is expected. The effect is considerably stronger for Boston though, which is interesting. Boston looks to be more dense in the center, but this warrants further investigation."
   ]
  },
  {
   "cell_type": "markdown",
   "metadata": {},
   "source": [
    "## Question 3. How does distance to center influence custumer satisfaction in Boston and Seattle?"
   ]
  },
  {
   "cell_type": "code",
   "execution_count": 104,
   "metadata": {},
   "outputs": [
    {
     "name": "stdout",
     "output_type": "stream",
     "text": [
      "The model explained the following fraction of variance on the test set\n",
      "0.11391588369220564\n",
      "The distance to center coefficient is:\n",
      "0.0\n",
      "The lowest coefficient is:  -0.6276314894944125\n",
      "The largest coefficient is:  0.9010551629186377\n"
     ]
    },
    {
     "name": "stderr",
     "output_type": "stream",
     "text": [
      "C:\\Users\\amatamune\\Anaconda3\\lib\\site-packages\\sklearn\\preprocessing\\data.py:645: DataConversionWarning: Data with input dtype uint8, int64, float64 were all converted to float64 by StandardScaler.\n",
      "  return self.partial_fit(X, y)\n",
      "C:\\Users\\amatamune\\Anaconda3\\lib\\site-packages\\ipykernel_launcher.py:28: DataConversionWarning: Data with input dtype uint8, int64, float64 were all converted to float64 by StandardScaler.\n"
     ]
    }
   ],
   "source": [
    "#Seattle\n",
    "#It's important to drop the review scores here as they are another target, and we\n",
    "#are mostly interested in apartment properties as features\n",
    "X_train, X_test, y_train, y_test = finish_listings(seattle_clean, 'review_scores_rating', 'price')\n",
    "\n",
    "#Make the regression and fit it\n",
    "#Note: different alphas were tested. The particular number isn't really important\n",
    "#alpha needs to be increased to unreasonable levels for distance to center to become\n",
    "#insignificant as a factor\n",
    "lr = Lasso(alpha=0.3)\n",
    "lr.fit(X_train,y_train)\n",
    "\n",
    "#Let's see how we did\n",
    "print('The model explained the following fraction of variance on the test set')\n",
    "print(lr.score(X_test,y_test))\n",
    "\n",
    "dist_index=list(X_test.columns).index('dist_to_center')\n",
    "print('The distance to center coefficient is:')\n",
    "print(lr.coef_[dist_index])\n",
    "print('The lowest coefficient is: ',lr.coef_.min())\n",
    "print('The largest coefficient is: ',lr.coef_.max())\n",
    "\n",
    "#This takes up way too much space\n",
    "#print('All the non-zero coefficients are:')\n",
    "#coef = np.array(lr.coef_)\n",
    "#coef_ind = (coef != 0)\n",
    "#print(list(zip(compress(list(X_test.columns),coef_ind),compress(list(coef),coef_ind))))"
   ]
  },
  {
   "cell_type": "code",
   "execution_count": 105,
   "metadata": {},
   "outputs": [
    {
     "data": {
      "image/png": "[encoded data removed]",
      "text/plain": [
       "<Figure size 576x576 with 1 Axes>"
      ]
     },
     "metadata": {
      "needs_background": "light"
     },
     "output_type": "display_data"
    }
   ],
   "source": [
    "#Representing results\n",
    "\n",
    "height = [lr.coef_.min(), lr.coef_[dist_index], lr.coef_.max()]\n",
    "x = ['min_coeff', 'dist_to_center_coeff', 'max_coeff']\n",
    "\n",
    "plt.figure(figsize=(8,8))\n",
    "plt.bar(x=x, height=height, color=['r','r','g'], alpha=0.6)\n",
    "plt.xticks(fontsize=12)\n",
    "plt.ylabel('Coefficient', fontsize=15)\n",
    "plt.ylim([-2,2])\n",
    "plt.title('Seattle\\ndistance to center influence on score',fontsize=18)\n",
    "#plt.show()\n",
    "plt.savefig('Seattle_dist_and_score.png')"
   ]
  },
  {
   "cell_type": "code",
   "execution_count": 106,
   "metadata": {},
   "outputs": [
    {
     "name": "stdout",
     "output_type": "stream",
     "text": [
      "The model explained the following fraction of variance on the test set\n",
      "0.08942423151735601\n",
      "The distance to center coefficient is:\n",
      "0.0\n",
      "The lowest coefficient is:  -0.7019307705468061\n",
      "The largest coefficient is:  1.1326585951366537\n"
     ]
    },
    {
     "name": "stderr",
     "output_type": "stream",
     "text": [
      "C:\\Users\\amatamune\\Anaconda3\\lib\\site-packages\\sklearn\\preprocessing\\data.py:645: DataConversionWarning: Data with input dtype uint8, int64, float64 were all converted to float64 by StandardScaler.\n",
      "  return self.partial_fit(X, y)\n",
      "C:\\Users\\amatamune\\Anaconda3\\lib\\site-packages\\ipykernel_launcher.py:28: DataConversionWarning: Data with input dtype uint8, int64, float64 were all converted to float64 by StandardScaler.\n"
     ]
    }
   ],
   "source": [
    "#Boston\n",
    "#It's important to drop the review scores here as they are another target, and we\n",
    "#are mostly interested in apartment properties as features\n",
    "X_train, X_test, y_train, y_test = finish_listings(boston_clean, 'review_scores_rating', 'price')\n",
    "\n",
    "#Make the regression and fit it\n",
    "#Note: different alphas were tested. The particular number isn't really important\n",
    "#alpha needs to be increased to unreasonable levels for distance to center to become\n",
    "#insignificant as a factor\n",
    "lr = Lasso(alpha=0.3)\n",
    "lr.fit(X_train,y_train)\n",
    "\n",
    "#Let's see how we did\n",
    "print('The model explained the following fraction of variance on the test set')\n",
    "print(lr.score(X_test,y_test))\n",
    "\n",
    "dist_index=list(X_test.columns).index('dist_to_center')\n",
    "print('The distance to center coefficient is:')\n",
    "print(lr.coef_[dist_index])\n",
    "print('The lowest coefficient is: ',lr.coef_.min())\n",
    "print('The largest coefficient is: ',lr.coef_.max())\n",
    "\n",
    "#This takes up way too much space\n",
    "#print('All the non-zero coefficients are:')\n",
    "#coef = np.array(lr.coef_)\n",
    "#coef_ind = (coef != 0)\n",
    "#print(list(zip(compress(list(X_test.columns),coef_ind),compress(list(coef),coef_ind))))"
   ]
  },
  {
   "cell_type": "code",
   "execution_count": 107,
   "metadata": {},
   "outputs": [
    {
     "data": {
      "image/png": "[encoded data removed]",
      "text/plain": [
       "<Figure size 576x576 with 1 Axes>"
      ]
     },
     "metadata": {
      "needs_background": "light"
     },
     "output_type": "display_data"
    }
   ],
   "source": [
    "#Representing results\n",
    "\n",
    "height = [lr.coef_.min(), lr.coef_[dist_index], lr.coef_.max()]\n",
    "x = ['min_coeff', 'dist_to_center_coeff', 'max_coeff']\n",
    "\n",
    "plt.figure(figsize=(8,8))\n",
    "plt.bar(x=x, height=height, color=['r','r','g'], alpha=0.6)\n",
    "plt.xticks(fontsize=12)\n",
    "plt.ylabel('Coefficient', fontsize=15)\n",
    "plt.ylim([-2,2])\n",
    "plt.title('Boston\\ndistance to center influence on score',fontsize=18)\n",
    "#plt.show()\n",
    "plt.savefig('Boston_dist_and_score.png')"
   ]
  },
  {
   "cell_type": "markdown",
   "metadata": {},
   "source": [
    "### Question 3 results discussion\n",
    "We might say that the distance to center doesn't have any effect on the average score, but the truth is that our model simply doesn't predict custumer satisfaction well. 9% of variance explained is very little. There could be two reasons: either we need a more complex model, or the data used doesn't have enough information to predict how satisfied a custumer will be.\n",
    "I'm leaning toward the former but further research is needed. It's out of scope of this project however."
   ]
  }
 ],
 "metadata": {
  "kernelspec": {
   "display_name": "Python 3",
   "language": "python",
   "name": "python3"
  },
  "language_info": {
   "codemirror_mode": {
    "name": "ipython",
    "version": 3
   },
   "file_extension": ".py",
   "mimetype": "text/x-python",
   "name": "python",
   "nbconvert_exporter": "python",
   "pygments_lexer": "ipython3",
   "version": "3.7.2"
  }
 },
 "nbformat": 4,
 "nbformat_minor": 2
}
